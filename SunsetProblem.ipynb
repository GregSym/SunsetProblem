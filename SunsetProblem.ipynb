{
  "nbformat": 4,
  "nbformat_minor": 0,
  "metadata": {
    "colab": {
      "name": "SunsetProblem.ipynb",
      "provenance": [],
      "collapsed_sections": [],
      "authorship_tag": "ABX9TyPhvwLswqxaHi35VfKB2l0d",
      "include_colab_link": true
    },
    "kernelspec": {
      "name": "python3",
      "display_name": "Python 3"
    },
    "language_info": {
      "name": "python"
    }
  },
  "cells": [
    {
      "cell_type": "markdown",
      "metadata": {
        "id": "view-in-github",
        "colab_type": "text"
      },
      "source": [
        "<a href=\"https://colab.research.google.com/github/GregSym/SunsetProblem/blob/spoon/SunsetProblem.ipynb\" target=\"_parent\"><img src=\"https://colab.research.google.com/assets/colab-badge.svg\" alt=\"Open In Colab\"/></a>"
      ]
    },
    {
      "cell_type": "markdown",
      "metadata": {
        "id": "0xUzNwCfRlhs"
      },
      "source": [
        "<h1> Dear Hank and John: 'The Sunset Problem' </h1>\n",
        "\n",
        "<p>\n",
        "  On ep: 305 - 'The Manhole Problem' of the podcast 'Dear Hank and John' (a comedy podcast / ostensible advice show) one of the questions was, roughly, \n",
        "  'how fast do you have to go for it to always be sunset?'\n",
        "  (https://podcasts.google.com/feed/aHR0cDovL2ZlZWRzLndueWMub3JnL2RlYXJoYW5rYW5kam9obg?sa=X&ved=0CDQQ9sEGahcKEwjQqYOUlKDzAhUAAAAAHQAAAAAQAQ)\n",
        "</p>\n",
        "\n",
        "<p>\n",
        "  The provided answer was a combination of simply going to the North Pole or travelling around the equator at 1000mph (~1500kmph - the podcast is American).\n",
        "I would argue that this is inefficient, probably in both cases.\n",
        "</p>\n",
        "\n",
        "<ul>\n",
        "<li>\n",
        "  During the famous 'Midnight Sun', the North Pole actually experiences a sun that is at too high an angle to qualify for a sunset. I understand this seems pedantic. That would be because you have accurately guessed this is going to be an unhelpfully pedantic process.\n",
        "</li>\n",
        "<li>\n",
        "  I don't feel like I need to explain why the equator is a bad choice for the 'just go fast in a circle' strategy, because it is the largest possible circle of many perfectly allowable circles. You can travel far enough away from the equator that sunsets become harder to account for reliably, but this isn't a problem if you choose a circle that runs instead through, say, Cairo.\n",
        "</li>\n",
        "</ul>\n"
      ]
    },
    {
      "cell_type": "markdown",
      "metadata": {
        "id": "ObN_MiSgV7H7"
      },
      "source": [
        "definition of a sunset: https://what-if.xkcd.com/42/\n",
        "<p>\n",
        "  NOTE: This draws attention to the fact that in order for a sunset to be a sunset a sun does in fact have to set at some point, and indeed be dancing precariously over the horizon in preperation of doing this. The question asker specifically sought to drag out the sunset for as long as possible, ergo, the best possible outcome will be assumed to be that seconds before one's ultimate demise, which ever mode of transport in use is halted and the setting is observed. Any strategy that does not involve observing the actual setting of the sun will be considered invalid.\n",
        "'Unsetting' the sun, by means of excessive speed, will also be considered invalid. We are aiming for efficiency, afterall. One must remain within the boundaries of the sunset at all times.\n",
        "</p>"
      ]
    },
    {
      "cell_type": "markdown",
      "metadata": {
        "id": "LqKoI68NZSM6"
      },
      "source": [
        "# Section 1: Trying to logic our way out of doing geography\n",
        "\n",
        "Before we start plotting concentric circles on map packages, we do have enough information to get maximum approximate sunset length as a function of date and longitude - this lets us cheat a little bit. Assuming the length of the sunset is your window of time in which to reach another point where a sunset is starting, the approximate speed of travel required at that longitude can be estimated. Going up to the limit of where sunsets are nice and well-behaved, we can do the easiest possible maths - this ought to give us a nice yardstick to compare against for performance, but nowhere near a pedantic enough result."
      ]
    },
    {
      "cell_type": "code",
      "metadata": {
        "id": "O3ejiHAgRhLL"
      },
      "source": [
        "from datetime import datetime, timedelta"
      ],
      "execution_count": 1,
      "outputs": []
    },
    {
      "cell_type": "code",
      "metadata": {
        "id": "gIRQ6q9HVVoG"
      },
      "source": [
        "longest_possible_sunset = timedelta(minutes=40)"
      ],
      "execution_count": 2,
      "outputs": []
    },
    {
      "cell_type": "code",
      "metadata": {
        "id": "xWMt7kMjdZGn"
      },
      "source": [
        "import ephem"
      ],
      "execution_count": 3,
      "outputs": []
    },
    {
      "cell_type": "markdown",
      "metadata": {
        "id": "Rn4jE26FLpeN"
      },
      "source": [
        "A quick note about how ephem.Angle class types behave from the pyephem guys:\n",
        "\n",
        "\"Instead of making angular units explicit in your code, PyEphem tried to be clever but only wound up being obscure. An input string '1.23' is parsed as degrees of declination (or hours, when setting right ascension) but a float 1.23 is assumed to be in radians. Angles returned by PyEphem are even more confusing: print them, and they display degrees; but do math with them, and you will find they are radians. This causes substantial confusion and makes code much more difficult to read, but can never be fixed without breaking programs that already use PyEphem.\"\n",
        "\n",
        "TL;DR: you can set using strings that read like latitude/longitude notation, get when you get the value back, it's sometimes in degrees and sometimes in radians - this is dumb, but it turns out to work really well for specifically the things we're about to use it for, so I'm not going to complain too loudly. It does make some things a little confusing to follow"
      ]
    },
    {
      "cell_type": "code",
      "metadata": {
        "colab": {
          "base_uri": "https://localhost:8080/"
        },
        "id": "VMBQ9lSwdaEr",
        "outputId": "9aa6ddaf-f040-447b-c89b-430e622bdf50"
      },
      "source": [
        "sun = ephem.Sun()\n",
        "\n",
        "position_on_earth = ephem.Observer()\n",
        "position_on_earth.lat = '0'\n",
        "position_on_earth.lon = '0'\n",
        "position_on_earth.date = '2007/10/02 00:50:22'\n",
        "sun.compute(position_on_earth)\n",
        "print(position_on_earth.next_rising(sun))\n",
        "print(position_on_earth.next_setting(sun))\n"
      ],
      "execution_count": 4,
      "outputs": [
        {
          "output_type": "stream",
          "name": "stdout",
          "text": [
            "2007/10/2 05:45:59\n",
            "2007/10/2 17:52:54\n"
          ]
        }
      ]
    },
    {
      "cell_type": "code",
      "metadata": {
        "id": "6cgvjDWleMUJ"
      },
      "source": [
        "# testing package behaviour\n",
        "help(position_on_earth.next_setting(sun))"
      ],
      "execution_count": null,
      "outputs": []
    },
    {
      "cell_type": "code",
      "metadata": {
        "colab": {
          "base_uri": "https://localhost:8080/"
        },
        "id": "JkQIDpm8jpIz",
        "outputId": "78001f54-afa8-4c3e-df4d-c1d6f2e01bd6"
      },
      "source": [
        "position_on_earth.next_setting(sun).datetime().day"
      ],
      "execution_count": 6,
      "outputs": [
        {
          "output_type": "execute_result",
          "data": {
            "text/plain": [
              "2"
            ]
          },
          "metadata": {},
          "execution_count": 6
        }
      ]
    },
    {
      "cell_type": "code",
      "metadata": {
        "id": "p9QlJJY4kEvM"
      },
      "source": [
        "def has_sunset_on_date(position: ephem.Observer, date: datetime) -> bool:\n",
        "  position.date = date\n",
        "  sun.compute(position)\n",
        "  try:\n",
        "    # print(position.next_setting(sun))\n",
        "    position.next_setting(sun)\n",
        "    return True\n",
        "  except ephem.CircumpolarError: # error type if date has no sunset at given position\n",
        "    return False"
      ],
      "execution_count": 7,
      "outputs": []
    },
    {
      "cell_type": "code",
      "metadata": {
        "colab": {
          "base_uri": "https://localhost:8080/"
        },
        "id": "skxH02sJlZdT",
        "outputId": "c4e57aaa-c990-4eb4-fe5d-4384a7febbe8"
      },
      "source": [
        "  target_date = datetime(year=2021, month=9, day=27, hour=0, minute=0, second=0)\n",
        "  position = ephem.Observer()\n",
        "  position.lat = '0'\n",
        "  position.lon = '0'\n",
        "  has_sunset_on_date(position=position, date=target_date)"
      ],
      "execution_count": 8,
      "outputs": [
        {
          "output_type": "execute_result",
          "data": {
            "text/plain": [
              "True"
            ]
          },
          "metadata": {},
          "execution_count": 8
        }
      ]
    },
    {
      "cell_type": "code",
      "metadata": {
        "colab": {
          "base_uri": "https://localhost:8080/"
        },
        "id": "auZy2nobmN9v",
        "outputId": "ba4cfd02-bc61-4aa4-d87e-9a36b115fa3f"
      },
      "source": [
        "position = ephem.Observer()\n",
        "target_date = datetime(year=2021, month=12, day=28, hour=0, minute=0, second=0)\n",
        "\n",
        "def northernmost_sunset_for_date(position: ephem.Observer, date: datetime):\n",
        "  position.lat = '0'\n",
        "  while True:\n",
        "\n",
        "    if not has_sunset_on_date(position=position, date=date):\n",
        "      break\n",
        "    position.lat += .001 # move north\n",
        "  print(position)\n",
        "northernmost_sunset_for_date(position=position, date=target_date)"
      ],
      "execution_count": 9,
      "outputs": [
        {
          "output_type": "stream",
          "name": "stdout",
          "text": [
            "<ephem.Observer date='2021/12/28 00:00:00' epoch='2000/1/1 12:00:00' lon='0:00:00.0' lat='67:39:58.7' elevation=0.0m horizon=0:00:00.0 temp=15.0C pressure=1010.0mBar>\n"
          ]
        }
      ]
    },
    {
      "cell_type": "code",
      "metadata": {
        "id": "fyQahLI8nHt7"
      },
      "source": [
        "import numpy as np\n",
        "\n",
        "def velocity_from_latitude(latitude: ephem.Angle) -> float:\n",
        "  return np.cos(latitude) * 1_669.8 #kph"
      ],
      "execution_count": 10,
      "outputs": []
    },
    {
      "cell_type": "code",
      "metadata": {
        "colab": {
          "base_uri": "https://localhost:8080/"
        },
        "id": "FOhw1FdDnom2",
        "outputId": "1fed5a59-223b-42c6-e64b-3e4614f2a4a3"
      },
      "source": [
        "print(velocity_from_latitude(latitude=position.lat))\n",
        "position.lat = '0'\n",
        "velocity_from_latitude(latitude=position.lat)"
      ],
      "execution_count": 11,
      "outputs": [
        {
          "output_type": "stream",
          "name": "stdout",
          "text": [
            "634.5240468315385\n"
          ]
        },
        {
          "output_type": "execute_result",
          "data": {
            "text/plain": [
              "1669.8"
            ]
          },
          "metadata": {},
          "execution_count": 11
        }
      ]
    },
    {
      "cell_type": "markdown",
      "metadata": {
        "id": "ITho4KcK4Rp3"
      },
      "source": [
        "Generate a calendar off of which to work\n",
        "\n",
        "ref: https://stackoverflow.com/questions/993358/creating-a-range-of-dates-in-python"
      ]
    },
    {
      "cell_type": "code",
      "metadata": {
        "id": "hKC2b4M2rJeZ"
      },
      "source": [
        "import pandas as pd\n",
        "\n",
        "jan_1 = datetime(year=2022, month=1, day=1, hour=0, minute=0, second=0)\n",
        "year_2022 = pd.date_range(jan_1, periods=365).to_pydatetime().tolist()\n",
        "print(year_2022)"
      ],
      "execution_count": null,
      "outputs": []
    },
    {
      "cell_type": "code",
      "metadata": {
        "id": "Muc3Vu5P45sZ"
      },
      "source": [
        "northernmost_sunset_latitude = []\n",
        "for date in year_2022:\n",
        "  northernmost_sunset_for_date(position=position, date=date)\n",
        "  northernmost_sunset_latitude.append(position.lat)\n"
      ],
      "execution_count": null,
      "outputs": []
    },
    {
      "cell_type": "code",
      "metadata": {
        "id": "IMc6wCinIOGE"
      },
      "source": [
        "import matplotlib.pyplot as plt"
      ],
      "execution_count": 14,
      "outputs": []
    },
    {
      "cell_type": "code",
      "metadata": {
        "colab": {
          "base_uri": "https://localhost:8080/",
          "height": 265
        },
        "id": "B5hV5gg-I3cm",
        "outputId": "69bde2eb-be2f-43de-8702-1e581839886c"
      },
      "source": [
        "plt.plot(year_2022, [lat * 180 / np.pi for lat in northernmost_sunset_latitude]) # degrees are a little easier unless you put it in terms of pi by factoring it out anyway\n",
        "plt.show()"
      ],
      "execution_count": 21,
      "outputs": [
        {
          "output_type": "display_data",
          "data": {
            "image/png": "[encoded data removed]",
            "text/plain": [
              "<Figure size 432x288 with 1 Axes>"
            ]
          },
          "metadata": {
            "needs_background": "light"
          }
        }
      ]
    },
    {
      "cell_type": "markdown",
      "metadata": {
        "id": "0amc3dnLM6KO"
      },
      "source": [
        "Therefore, the naive solution here, is to simply find the speed of rotation of the earth's surface about its axis at the latitude co-ordinate of the northernmost sunset for a given day.\n",
        "\n",
        "I should probably address the hemisphere selection here: I am personally from the Southern Hemisphere, and like to think I harbour no internalised bias against the South of the planet; however, the Earth experiences slightly longer sunsets in the North, which affords one a higher margin of error, something I assume is likely helpful. Of course, there is less air travel over the Antarctic, which may have benefits for flight plans which I am failing to take into account. In any event, the math below is assuming a perfect sphere and 0 elevation, so there probably isn't going to be significant hemispheric variation in the result."
      ]
    },
    {
      "cell_type": "code",
      "metadata": {
        "colab": {
          "base_uri": "https://localhost:8080/",
          "height": 265
        },
        "id": "BnFlOE6_JlmW",
        "outputId": "f3110cfc-0cb4-4c64-f99f-70c463d153b8"
      },
      "source": [
        "plt.plot(year_2022, [velocity_from_latitude(lat) for lat in northernmost_sunset_latitude])\n",
        "plt.show()"
      ],
      "execution_count": 16,
      "outputs": [
        {
          "output_type": "display_data",
          "data": {
            "image/png": "[encoded data removed]",
            "text/plain": [
              "<Figure size 432x288 with 1 Axes>"
            ]
          },
          "metadata": {
            "needs_background": "light"
          }
        }
      ]
    },
    {
      "cell_type": "code",
      "metadata": {
        "id": "WElyA7L-J4B7"
      },
      "source": [
        ""
      ],
      "execution_count": null,
      "outputs": []
    }
  ]
}