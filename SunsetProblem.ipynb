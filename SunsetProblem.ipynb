{
  "nbformat": 4,
  "nbformat_minor": 0,
  "metadata": {
    "colab": {
      "name": "SunsetProblem.ipynb",
      "provenance": [],
      "authorship_tag": "ABX9TyPf98us1Dbxztb4f4veoQ7q",
      "include_colab_link": true
    },
    "kernelspec": {
      "name": "python3",
      "display_name": "Python 3"
    },
    "language_info": {
      "name": "python"
    }
  },
  "cells": [
    {
      "cell_type": "markdown",
      "metadata": {
        "id": "view-in-github",
        "colab_type": "text"
      },
      "source": [
        "<a href=\"https://colab.research.google.com/github/GregSym/SunsetProblem/blob/spoon/SunsetProblem.ipynb\" target=\"_parent\"><img src=\"https://colab.research.google.com/assets/colab-badge.svg\" alt=\"Open In Colab\"/></a>"
      ]
    },
    {
      "cell_type": "markdown",
      "metadata": {
        "id": "0xUzNwCfRlhs"
      },
      "source": [
        "<h1> Dear Hank and John: 'The Sunset Problem' </h1>\n",
        "\n",
        "<p>\n",
        "  On ep: 305 - 'The Manhole Problem' of the podcast 'Dear Hank and John' (a comedy podcast / ostensible advice show) one of the questions was, roughly, \n",
        "  'how fast do you have to go for it to always be sunset?'\n",
        "  (https://podcasts.google.com/feed/aHR0cDovL2ZlZWRzLndueWMub3JnL2RlYXJoYW5rYW5kam9obg?sa=X&ved=0CDQQ9sEGahcKEwjQqYOUlKDzAhUAAAAAHQAAAAAQAQ)\n",
        "</p>\n",
        "\n",
        "<p>\n",
        "  The provided answer was a combination of simply going to the North Pole or travelling around the equator at 1000mph (~1500kmph - the podcast is American).\n",
        "I would argue that this is inefficient, probably in both cases.\n",
        "</p>\n",
        "\n",
        "<ul>\n",
        "<li>\n",
        "  During the famous 'Midnight Sun', the North Pole actually experiences a sun that is at too high an angle to qualify for a sunset. I understand this seems pedantic. That would be because you have accurately guessed this is going to be an unhelpfully pedantic process.\n",
        "</li>\n",
        "<li>\n",
        "  I don't feel like I need to explain why the equator is a bad choice for the 'just go fast in a circle' strategy, because it is the largest possible circle of many perfectly allowable circles. You can travel far enough away from the equator that sunsets become harder to account for reliably, but this isn't a problem if you choose a circle that runs instead through, say, Cairo.\n",
        "</li>\n",
        "</ul>\n"
      ]
    },
    {
      "cell_type": "markdown",
      "metadata": {
        "id": "ObN_MiSgV7H7"
      },
      "source": [
        "definition of a sunset: https://what-if.xkcd.com/42/\n",
        "<p>\n",
        "  NOTE: This draws attention to the fact that in order for a sunset to be a sunset a sun does in fact have to set at some point, and indeed be dancing precariously over the horizon in preperation of doing this. The question asker specifically sought to drag out the sunset for as long as possible, ergo, the best possible outcome will be assumed to be that seconds before one's ultimate demise, which ever mode of transport in use is halted and the setting is observed. Any strategy that does not involve observing the actual setting of the sun will be considered invalid.\n",
        "'Unsetting' the sun, by means of excessive speed, will also be considered invalid. We are aiming for efficiency, afterall. One must remain within the boundaries of the sunset at all times.\n",
        "</p>"
      ]
    },
    {
      "cell_type": "markdown",
      "metadata": {
        "id": "LqKoI68NZSM6"
      },
      "source": [
        "# Section 1: Trying to logic our way out of doing geography\n",
        "\n",
        "Before we start plotting concentric circles on map packages, we do have enough information to get maximum approximate sunset length as a function of date and longitude - this lets us cheat a little bit. Assuming the length of the sunset is your window of time in which to reach another point where a sunset is starting, the approximate speed of travel required at that longitude can be estimated. Going up to the limit of where sunsets are nice and well-behaved, we can do the easiest possible maths - this ought to give us a nice yardstick to compare against for performance, but nowhere near a pedantic enough result."
      ]
    },
    {
      "cell_type": "code",
      "metadata": {
        "id": "O3ejiHAgRhLL"
      },
      "source": [
        "from datetime import datetime, timedelta"
      ],
      "execution_count": 1,
      "outputs": []
    },
    {
      "cell_type": "code",
      "metadata": {
        "id": "gIRQ6q9HVVoG"
      },
      "source": [
        "longest_possible_sunset = timedelta(minutes=40)"
      ],
      "execution_count": 2,
      "outputs": []
    },
    {
      "cell_type": "code",
      "metadata": {
        "id": "xWMt7kMjdZGn"
      },
      "source": [
        "import ephem"
      ],
      "execution_count": 3,
      "outputs": []
    },
    {
      "cell_type": "markdown",
      "metadata": {
        "id": "Rn4jE26FLpeN"
      },
      "source": [
        "A quick note about how ephem.Angle class types behave from the pyephem guys:\n",
        "\n",
        "\"Instead of making angular units explicit in your code, PyEphem tried to be clever but only wound up being obscure. An input string '1.23' is parsed as degrees of declination (or hours, when setting right ascension) but a float 1.23 is assumed to be in radians. Angles returned by PyEphem are even more confusing: print them, and they display degrees; but do math with them, and you will find they are radians. This causes substantial confusion and makes code much more difficult to read, but can never be fixed without breaking programs that already use PyEphem.\"\n",
        "\n",
        "TL;DR: you can set using strings that read like latitude/longitude notation, get when you get the value back, it's sometimes in degrees and sometimes in radians - this is dumb, but it turns out to work really well for specifically the things we're about to use it for, so I'm not going to complain too loudly. It does make some things a little confusing to follow"
      ]
    },
    {
      "cell_type": "code",
      "metadata": {
        "colab": {
          "base_uri": "https://localhost:8080/"
        },
        "id": "VMBQ9lSwdaEr",
        "outputId": "9aa6ddaf-f040-447b-c89b-430e622bdf50"
      },
      "source": [
        "sun = ephem.Sun()\n",
        "\n",
        "position_on_earth = ephem.Observer()\n",
        "position_on_earth.lat = '0'\n",
        "position_on_earth.lon = '0'\n",
        "position_on_earth.date = '2007/10/02 00:50:22'\n",
        "sun.compute(position_on_earth)\n",
        "print(position_on_earth.next_rising(sun))\n",
        "print(position_on_earth.next_setting(sun))\n"
      ],
      "execution_count": 4,
      "outputs": [
        {
          "output_type": "stream",
          "name": "stdout",
          "text": [
            "2007/10/2 05:45:59\n",
            "2007/10/2 17:52:54\n"
          ]
        }
      ]
    },
    {
      "cell_type": "code",
      "metadata": {
        "id": "6cgvjDWleMUJ"
      },
      "source": [
        "# testing package behaviour\n",
        "help(position_on_earth.next_setting(sun))"
      ],
      "execution_count": null,
      "outputs": []
    },
    {
      "cell_type": "code",
      "metadata": {
        "colab": {
          "base_uri": "https://localhost:8080/"
        },
        "id": "JkQIDpm8jpIz",
        "outputId": "78001f54-afa8-4c3e-df4d-c1d6f2e01bd6"
      },
      "source": [
        "position_on_earth.next_setting(sun).datetime().day"
      ],
      "execution_count": 6,
      "outputs": [
        {
          "output_type": "execute_result",
          "data": {
            "text/plain": [
              "2"
            ]
          },
          "metadata": {},
          "execution_count": 6
        }
      ]
    },
    {
      "cell_type": "code",
      "metadata": {
        "id": "p9QlJJY4kEvM"
      },
      "source": [
        "def has_sunset_on_date(position: ephem.Observer, date: datetime) -> bool:\n",
        "  position.date = date\n",
        "  sun.compute(position)\n",
        "  try:\n",
        "    # print(position.next_setting(sun))\n",
        "    position.next_setting(sun)\n",
        "    return True\n",
        "  except ephem.CircumpolarError: # error type if date has no sunset at given position\n",
        "    return False"
      ],
      "execution_count": 7,
      "outputs": []
    },
    {
      "cell_type": "code",
      "metadata": {
        "colab": {
          "base_uri": "https://localhost:8080/"
        },
        "id": "skxH02sJlZdT",
        "outputId": "c4e57aaa-c990-4eb4-fe5d-4384a7febbe8"
      },
      "source": [
        "  target_date = datetime(year=2021, month=9, day=27, hour=0, minute=0, second=0)\n",
        "  position = ephem.Observer()\n",
        "  position.lat = '0'\n",
        "  position.lon = '0'\n",
        "  has_sunset_on_date(position=position, date=target_date)"
      ],
      "execution_count": 8,
      "outputs": [
        {
          "output_type": "execute_result",
          "data": {
            "text/plain": [
              "True"
            ]
          },
          "metadata": {},
          "execution_count": 8
        }
      ]
    },
    {
      "cell_type": "code",
      "metadata": {
        "colab": {
          "base_uri": "https://localhost:8080/"
        },
        "id": "auZy2nobmN9v",
        "outputId": "ba4cfd02-bc61-4aa4-d87e-9a36b115fa3f"
      },
      "source": [
        "position = ephem.Observer()\n",
        "target_date = datetime(year=2021, month=12, day=28, hour=0, minute=0, second=0)\n",
        "\n",
        "def northernmost_sunset_for_date(position: ephem.Observer, date: datetime):\n",
        "  position.lat = '0'\n",
        "  while True:\n",
        "\n",
        "    if not has_sunset_on_date(position=position, date=date):\n",
        "      break\n",
        "    position.lat += .001 # move north\n",
        "  print(position)\n",
        "northernmost_sunset_for_date(position=position, date=target_date)"
      ],
      "execution_count": 9,
      "outputs": [
        {
          "output_type": "stream",
          "name": "stdout",
          "text": [
            "<ephem.Observer date='2021/12/28 00:00:00' epoch='2000/1/1 12:00:00' lon='0:00:00.0' lat='67:39:58.7' elevation=0.0m horizon=0:00:00.0 temp=15.0C pressure=1010.0mBar>\n"
          ]
        }
      ]
    },
    {
      "cell_type": "code",
      "metadata": {
        "id": "fyQahLI8nHt7"
      },
      "source": [
        "import numpy as np\n",
        "\n",
        "def velocity_from_latitude(latitude: ephem.Angle) -> float:\n",
        "  return np.cos(latitude) * 1_669.8 #kph"
      ],
      "execution_count": 10,
      "outputs": []
    },
    {
      "cell_type": "code",
      "metadata": {
        "colab": {
          "base_uri": "https://localhost:8080/"
        },
        "id": "FOhw1FdDnom2",
        "outputId": "1fed5a59-223b-42c6-e64b-3e4614f2a4a3"
      },
      "source": [
        "print(velocity_from_latitude(latitude=position.lat))\n",
        "position.lat = '0'\n",
        "velocity_from_latitude(latitude=position.lat)"
      ],
      "execution_count": 11,
      "outputs": [
        {
          "output_type": "stream",
          "name": "stdout",
          "text": [
            "634.5240468315385\n"
          ]
        },
        {
          "output_type": "execute_result",
          "data": {
            "text/plain": [
              "1669.8"
            ]
          },
          "metadata": {},
          "execution_count": 11
        }
      ]
    },
    {
      "cell_type": "markdown",
      "metadata": {
        "id": "ITho4KcK4Rp3"
      },
      "source": [
        "Generate a calendar off of which to work\n",
        "\n",
        "ref: https://stackoverflow.com/questions/993358/creating-a-range-of-dates-in-python"
      ]
    },
    {
      "cell_type": "code",
      "metadata": {
        "colab": {
          "base_uri": "https://localhost:8080/"
        },
        "id": "hKC2b4M2rJeZ",
        "outputId": "572c0e4e-4bac-4703-fa42-a1d913dc69af"
      },
      "source": [
        "import pandas as pd\n",
        "\n",
        "jan_1 = datetime(year=2022, month=1, day=1, hour=0, minute=0, second=0)\n",
        "year_2022 = pd.date_range(jan_1, periods=365).to_pydatetime().tolist()\n",
        "print(year_2022)"
      ],
      "execution_count": 12,
      "outputs": [
        {
          "output_type": "stream",
          "name": "stdout",
          "text": [
            "[datetime.datetime(2022, 1, 1, 0, 0), datetime.datetime(2022, 1, 2, 0, 0), datetime.datetime(2022, 1, 3, 0, 0), datetime.datetime(2022, 1, 4, 0, 0), datetime.datetime(2022, 1, 5, 0, 0), datetime.datetime(2022, 1, 6, 0, 0), datetime.datetime(2022, 1, 7, 0, 0), datetime.datetime(2022, 1, 8, 0, 0), datetime.datetime(2022, 1, 9, 0, 0), datetime.datetime(2022, 1, 10, 0, 0), datetime.datetime(2022, 1, 11, 0, 0), datetime.datetime(2022, 1, 12, 0, 0), datetime.datetime(2022, 1, 13, 0, 0), datetime.datetime(2022, 1, 14, 0, 0), datetime.datetime(2022, 1, 15, 0, 0), datetime.datetime(2022, 1, 16, 0, 0), datetime.datetime(2022, 1, 17, 0, 0), datetime.datetime(2022, 1, 18, 0, 0), datetime.datetime(2022, 1, 19, 0, 0), datetime.datetime(2022, 1, 20, 0, 0), datetime.datetime(2022, 1, 21, 0, 0), datetime.datetime(2022, 1, 22, 0, 0), datetime.datetime(2022, 1, 23, 0, 0), datetime.datetime(2022, 1, 24, 0, 0), datetime.datetime(2022, 1, 25, 0, 0), datetime.datetime(2022, 1, 26, 0, 0), datetime.datetime(2022, 1, 27, 0, 0), datetime.datetime(2022, 1, 28, 0, 0), datetime.datetime(2022, 1, 29, 0, 0), datetime.datetime(2022, 1, 30, 0, 0), datetime.datetime(2022, 1, 31, 0, 0), datetime.datetime(2022, 2, 1, 0, 0), datetime.datetime(2022, 2, 2, 0, 0), datetime.datetime(2022, 2, 3, 0, 0), datetime.datetime(2022, 2, 4, 0, 0), datetime.datetime(2022, 2, 5, 0, 0), datetime.datetime(2022, 2, 6, 0, 0), datetime.datetime(2022, 2, 7, 0, 0), datetime.datetime(2022, 2, 8, 0, 0), datetime.datetime(2022, 2, 9, 0, 0), datetime.datetime(2022, 2, 10, 0, 0), datetime.datetime(2022, 2, 11, 0, 0), datetime.datetime(2022, 2, 12, 0, 0), datetime.datetime(2022, 2, 13, 0, 0), datetime.datetime(2022, 2, 14, 0, 0), datetime.datetime(2022, 2, 15, 0, 0), datetime.datetime(2022, 2, 16, 0, 0), datetime.datetime(2022, 2, 17, 0, 0), datetime.datetime(2022, 2, 18, 0, 0), datetime.datetime(2022, 2, 19, 0, 0), datetime.datetime(2022, 2, 20, 0, 0), datetime.datetime(2022, 2, 21, 0, 0), datetime.datetime(2022, 2, 22, 0, 0), datetime.datetime(2022, 2, 23, 0, 0), datetime.datetime(2022, 2, 24, 0, 0), datetime.datetime(2022, 2, 25, 0, 0), datetime.datetime(2022, 2, 26, 0, 0), datetime.datetime(2022, 2, 27, 0, 0), datetime.datetime(2022, 2, 28, 0, 0), datetime.datetime(2022, 3, 1, 0, 0), datetime.datetime(2022, 3, 2, 0, 0), datetime.datetime(2022, 3, 3, 0, 0), datetime.datetime(2022, 3, 4, 0, 0), datetime.datetime(2022, 3, 5, 0, 0), datetime.datetime(2022, 3, 6, 0, 0), datetime.datetime(2022, 3, 7, 0, 0), datetime.datetime(2022, 3, 8, 0, 0), datetime.datetime(2022, 3, 9, 0, 0), datetime.datetime(2022, 3, 10, 0, 0), datetime.datetime(2022, 3, 11, 0, 0), datetime.datetime(2022, 3, 12, 0, 0), datetime.datetime(2022, 3, 13, 0, 0), datetime.datetime(2022, 3, 14, 0, 0), datetime.datetime(2022, 3, 15, 0, 0), datetime.datetime(2022, 3, 16, 0, 0), datetime.datetime(2022, 3, 17, 0, 0), datetime.datetime(2022, 3, 18, 0, 0), datetime.datetime(2022, 3, 19, 0, 0), datetime.datetime(2022, 3, 20, 0, 0), datetime.datetime(2022, 3, 21, 0, 0), datetime.datetime(2022, 3, 22, 0, 0), datetime.datetime(2022, 3, 23, 0, 0), datetime.datetime(2022, 3, 24, 0, 0), datetime.datetime(2022, 3, 25, 0, 0), datetime.datetime(2022, 3, 26, 0, 0), datetime.datetime(2022, 3, 27, 0, 0), datetime.datetime(2022, 3, 28, 0, 0), datetime.datetime(2022, 3, 29, 0, 0), datetime.datetime(2022, 3, 30, 0, 0), datetime.datetime(2022, 3, 31, 0, 0), datetime.datetime(2022, 4, 1, 0, 0), datetime.datetime(2022, 4, 2, 0, 0), datetime.datetime(2022, 4, 3, 0, 0), datetime.datetime(2022, 4, 4, 0, 0), datetime.datetime(2022, 4, 5, 0, 0), datetime.datetime(2022, 4, 6, 0, 0), datetime.datetime(2022, 4, 7, 0, 0), datetime.datetime(2022, 4, 8, 0, 0), datetime.datetime(2022, 4, 9, 0, 0), datetime.datetime(2022, 4, 10, 0, 0), datetime.datetime(2022, 4, 11, 0, 0), datetime.datetime(2022, 4, 12, 0, 0), datetime.datetime(2022, 4, 13, 0, 0), datetime.datetime(2022, 4, 14, 0, 0), datetime.datetime(2022, 4, 15, 0, 0), datetime.datetime(2022, 4, 16, 0, 0), datetime.datetime(2022, 4, 17, 0, 0), datetime.datetime(2022, 4, 18, 0, 0), datetime.datetime(2022, 4, 19, 0, 0), datetime.datetime(2022, 4, 20, 0, 0), datetime.datetime(2022, 4, 21, 0, 0), datetime.datetime(2022, 4, 22, 0, 0), datetime.datetime(2022, 4, 23, 0, 0), datetime.datetime(2022, 4, 24, 0, 0), datetime.datetime(2022, 4, 25, 0, 0), datetime.datetime(2022, 4, 26, 0, 0), datetime.datetime(2022, 4, 27, 0, 0), datetime.datetime(2022, 4, 28, 0, 0), datetime.datetime(2022, 4, 29, 0, 0), datetime.datetime(2022, 4, 30, 0, 0), datetime.datetime(2022, 5, 1, 0, 0), datetime.datetime(2022, 5, 2, 0, 0), datetime.datetime(2022, 5, 3, 0, 0), datetime.datetime(2022, 5, 4, 0, 0), datetime.datetime(2022, 5, 5, 0, 0), datetime.datetime(2022, 5, 6, 0, 0), datetime.datetime(2022, 5, 7, 0, 0), datetime.datetime(2022, 5, 8, 0, 0), datetime.datetime(2022, 5, 9, 0, 0), datetime.datetime(2022, 5, 10, 0, 0), datetime.datetime(2022, 5, 11, 0, 0), datetime.datetime(2022, 5, 12, 0, 0), datetime.datetime(2022, 5, 13, 0, 0), datetime.datetime(2022, 5, 14, 0, 0), datetime.datetime(2022, 5, 15, 0, 0), datetime.datetime(2022, 5, 16, 0, 0), datetime.datetime(2022, 5, 17, 0, 0), datetime.datetime(2022, 5, 18, 0, 0), datetime.datetime(2022, 5, 19, 0, 0), datetime.datetime(2022, 5, 20, 0, 0), datetime.datetime(2022, 5, 21, 0, 0), datetime.datetime(2022, 5, 22, 0, 0), datetime.datetime(2022, 5, 23, 0, 0), datetime.datetime(2022, 5, 24, 0, 0), datetime.datetime(2022, 5, 25, 0, 0), datetime.datetime(2022, 5, 26, 0, 0), datetime.datetime(2022, 5, 27, 0, 0), datetime.datetime(2022, 5, 28, 0, 0), datetime.datetime(2022, 5, 29, 0, 0), datetime.datetime(2022, 5, 30, 0, 0), datetime.datetime(2022, 5, 31, 0, 0), datetime.datetime(2022, 6, 1, 0, 0), datetime.datetime(2022, 6, 2, 0, 0), datetime.datetime(2022, 6, 3, 0, 0), datetime.datetime(2022, 6, 4, 0, 0), datetime.datetime(2022, 6, 5, 0, 0), datetime.datetime(2022, 6, 6, 0, 0), datetime.datetime(2022, 6, 7, 0, 0), datetime.datetime(2022, 6, 8, 0, 0), datetime.datetime(2022, 6, 9, 0, 0), datetime.datetime(2022, 6, 10, 0, 0), datetime.datetime(2022, 6, 11, 0, 0), datetime.datetime(2022, 6, 12, 0, 0), datetime.datetime(2022, 6, 13, 0, 0), datetime.datetime(2022, 6, 14, 0, 0), datetime.datetime(2022, 6, 15, 0, 0), datetime.datetime(2022, 6, 16, 0, 0), datetime.datetime(2022, 6, 17, 0, 0), datetime.datetime(2022, 6, 18, 0, 0), datetime.datetime(2022, 6, 19, 0, 0), datetime.datetime(2022, 6, 20, 0, 0), datetime.datetime(2022, 6, 21, 0, 0), datetime.datetime(2022, 6, 22, 0, 0), datetime.datetime(2022, 6, 23, 0, 0), datetime.datetime(2022, 6, 24, 0, 0), datetime.datetime(2022, 6, 25, 0, 0), datetime.datetime(2022, 6, 26, 0, 0), datetime.datetime(2022, 6, 27, 0, 0), datetime.datetime(2022, 6, 28, 0, 0), datetime.datetime(2022, 6, 29, 0, 0), datetime.datetime(2022, 6, 30, 0, 0), datetime.datetime(2022, 7, 1, 0, 0), datetime.datetime(2022, 7, 2, 0, 0), datetime.datetime(2022, 7, 3, 0, 0), datetime.datetime(2022, 7, 4, 0, 0), datetime.datetime(2022, 7, 5, 0, 0), datetime.datetime(2022, 7, 6, 0, 0), datetime.datetime(2022, 7, 7, 0, 0), datetime.datetime(2022, 7, 8, 0, 0), datetime.datetime(2022, 7, 9, 0, 0), datetime.datetime(2022, 7, 10, 0, 0), datetime.datetime(2022, 7, 11, 0, 0), datetime.datetime(2022, 7, 12, 0, 0), datetime.datetime(2022, 7, 13, 0, 0), datetime.datetime(2022, 7, 14, 0, 0), datetime.datetime(2022, 7, 15, 0, 0), datetime.datetime(2022, 7, 16, 0, 0), datetime.datetime(2022, 7, 17, 0, 0), datetime.datetime(2022, 7, 18, 0, 0), datetime.datetime(2022, 7, 19, 0, 0), datetime.datetime(2022, 7, 20, 0, 0), datetime.datetime(2022, 7, 21, 0, 0), datetime.datetime(2022, 7, 22, 0, 0), datetime.datetime(2022, 7, 23, 0, 0), datetime.datetime(2022, 7, 24, 0, 0), datetime.datetime(2022, 7, 25, 0, 0), datetime.datetime(2022, 7, 26, 0, 0), datetime.datetime(2022, 7, 27, 0, 0), datetime.datetime(2022, 7, 28, 0, 0), datetime.datetime(2022, 7, 29, 0, 0), datetime.datetime(2022, 7, 30, 0, 0), datetime.datetime(2022, 7, 31, 0, 0), datetime.datetime(2022, 8, 1, 0, 0), datetime.datetime(2022, 8, 2, 0, 0), datetime.datetime(2022, 8, 3, 0, 0), datetime.datetime(2022, 8, 4, 0, 0), datetime.datetime(2022, 8, 5, 0, 0), datetime.datetime(2022, 8, 6, 0, 0), datetime.datetime(2022, 8, 7, 0, 0), datetime.datetime(2022, 8, 8, 0, 0), datetime.datetime(2022, 8, 9, 0, 0), datetime.datetime(2022, 8, 10, 0, 0), datetime.datetime(2022, 8, 11, 0, 0), datetime.datetime(2022, 8, 12, 0, 0), datetime.datetime(2022, 8, 13, 0, 0), datetime.datetime(2022, 8, 14, 0, 0), datetime.datetime(2022, 8, 15, 0, 0), datetime.datetime(2022, 8, 16, 0, 0), datetime.datetime(2022, 8, 17, 0, 0), datetime.datetime(2022, 8, 18, 0, 0), datetime.datetime(2022, 8, 19, 0, 0), datetime.datetime(2022, 8, 20, 0, 0), datetime.datetime(2022, 8, 21, 0, 0), datetime.datetime(2022, 8, 22, 0, 0), datetime.datetime(2022, 8, 23, 0, 0), datetime.datetime(2022, 8, 24, 0, 0), datetime.datetime(2022, 8, 25, 0, 0), datetime.datetime(2022, 8, 26, 0, 0), datetime.datetime(2022, 8, 27, 0, 0), datetime.datetime(2022, 8, 28, 0, 0), datetime.datetime(2022, 8, 29, 0, 0), datetime.datetime(2022, 8, 30, 0, 0), datetime.datetime(2022, 8, 31, 0, 0), datetime.datetime(2022, 9, 1, 0, 0), datetime.datetime(2022, 9, 2, 0, 0), datetime.datetime(2022, 9, 3, 0, 0), datetime.datetime(2022, 9, 4, 0, 0), datetime.datetime(2022, 9, 5, 0, 0), datetime.datetime(2022, 9, 6, 0, 0), datetime.datetime(2022, 9, 7, 0, 0), datetime.datetime(2022, 9, 8, 0, 0), datetime.datetime(2022, 9, 9, 0, 0), datetime.datetime(2022, 9, 10, 0, 0), datetime.datetime(2022, 9, 11, 0, 0), datetime.datetime(2022, 9, 12, 0, 0), datetime.datetime(2022, 9, 13, 0, 0), datetime.datetime(2022, 9, 14, 0, 0), datetime.datetime(2022, 9, 15, 0, 0), datetime.datetime(2022, 9, 16, 0, 0), datetime.datetime(2022, 9, 17, 0, 0), datetime.datetime(2022, 9, 18, 0, 0), datetime.datetime(2022, 9, 19, 0, 0), datetime.datetime(2022, 9, 20, 0, 0), datetime.datetime(2022, 9, 21, 0, 0), datetime.datetime(2022, 9, 22, 0, 0), datetime.datetime(2022, 9, 23, 0, 0), datetime.datetime(2022, 9, 24, 0, 0), datetime.datetime(2022, 9, 25, 0, 0), datetime.datetime(2022, 9, 26, 0, 0), datetime.datetime(2022, 9, 27, 0, 0), datetime.datetime(2022, 9, 28, 0, 0), datetime.datetime(2022, 9, 29, 0, 0), datetime.datetime(2022, 9, 30, 0, 0), datetime.datetime(2022, 10, 1, 0, 0), datetime.datetime(2022, 10, 2, 0, 0), datetime.datetime(2022, 10, 3, 0, 0), datetime.datetime(2022, 10, 4, 0, 0), datetime.datetime(2022, 10, 5, 0, 0), datetime.datetime(2022, 10, 6, 0, 0), datetime.datetime(2022, 10, 7, 0, 0), datetime.datetime(2022, 10, 8, 0, 0), datetime.datetime(2022, 10, 9, 0, 0), datetime.datetime(2022, 10, 10, 0, 0), datetime.datetime(2022, 10, 11, 0, 0), datetime.datetime(2022, 10, 12, 0, 0), datetime.datetime(2022, 10, 13, 0, 0), datetime.datetime(2022, 10, 14, 0, 0), datetime.datetime(2022, 10, 15, 0, 0), datetime.datetime(2022, 10, 16, 0, 0), datetime.datetime(2022, 10, 17, 0, 0), datetime.datetime(2022, 10, 18, 0, 0), datetime.datetime(2022, 10, 19, 0, 0), datetime.datetime(2022, 10, 20, 0, 0), datetime.datetime(2022, 10, 21, 0, 0), datetime.datetime(2022, 10, 22, 0, 0), datetime.datetime(2022, 10, 23, 0, 0), datetime.datetime(2022, 10, 24, 0, 0), datetime.datetime(2022, 10, 25, 0, 0), datetime.datetime(2022, 10, 26, 0, 0), datetime.datetime(2022, 10, 27, 0, 0), datetime.datetime(2022, 10, 28, 0, 0), datetime.datetime(2022, 10, 29, 0, 0), datetime.datetime(2022, 10, 30, 0, 0), datetime.datetime(2022, 10, 31, 0, 0), datetime.datetime(2022, 11, 1, 0, 0), datetime.datetime(2022, 11, 2, 0, 0), datetime.datetime(2022, 11, 3, 0, 0), datetime.datetime(2022, 11, 4, 0, 0), datetime.datetime(2022, 11, 5, 0, 0), datetime.datetime(2022, 11, 6, 0, 0), datetime.datetime(2022, 11, 7, 0, 0), datetime.datetime(2022, 11, 8, 0, 0), datetime.datetime(2022, 11, 9, 0, 0), datetime.datetime(2022, 11, 10, 0, 0), datetime.datetime(2022, 11, 11, 0, 0), datetime.datetime(2022, 11, 12, 0, 0), datetime.datetime(2022, 11, 13, 0, 0), datetime.datetime(2022, 11, 14, 0, 0), datetime.datetime(2022, 11, 15, 0, 0), datetime.datetime(2022, 11, 16, 0, 0), datetime.datetime(2022, 11, 17, 0, 0), datetime.datetime(2022, 11, 18, 0, 0), datetime.datetime(2022, 11, 19, 0, 0), datetime.datetime(2022, 11, 20, 0, 0), datetime.datetime(2022, 11, 21, 0, 0), datetime.datetime(2022, 11, 22, 0, 0), datetime.datetime(2022, 11, 23, 0, 0), datetime.datetime(2022, 11, 24, 0, 0), datetime.datetime(2022, 11, 25, 0, 0), datetime.datetime(2022, 11, 26, 0, 0), datetime.datetime(2022, 11, 27, 0, 0), datetime.datetime(2022, 11, 28, 0, 0), datetime.datetime(2022, 11, 29, 0, 0), datetime.datetime(2022, 11, 30, 0, 0), datetime.datetime(2022, 12, 1, 0, 0), datetime.datetime(2022, 12, 2, 0, 0), datetime.datetime(2022, 12, 3, 0, 0), datetime.datetime(2022, 12, 4, 0, 0), datetime.datetime(2022, 12, 5, 0, 0), datetime.datetime(2022, 12, 6, 0, 0), datetime.datetime(2022, 12, 7, 0, 0), datetime.datetime(2022, 12, 8, 0, 0), datetime.datetime(2022, 12, 9, 0, 0), datetime.datetime(2022, 12, 10, 0, 0), datetime.datetime(2022, 12, 11, 0, 0), datetime.datetime(2022, 12, 12, 0, 0), datetime.datetime(2022, 12, 13, 0, 0), datetime.datetime(2022, 12, 14, 0, 0), datetime.datetime(2022, 12, 15, 0, 0), datetime.datetime(2022, 12, 16, 0, 0), datetime.datetime(2022, 12, 17, 0, 0), datetime.datetime(2022, 12, 18, 0, 0), datetime.datetime(2022, 12, 19, 0, 0), datetime.datetime(2022, 12, 20, 0, 0), datetime.datetime(2022, 12, 21, 0, 0), datetime.datetime(2022, 12, 22, 0, 0), datetime.datetime(2022, 12, 23, 0, 0), datetime.datetime(2022, 12, 24, 0, 0), datetime.datetime(2022, 12, 25, 0, 0), datetime.datetime(2022, 12, 26, 0, 0), datetime.datetime(2022, 12, 27, 0, 0), datetime.datetime(2022, 12, 28, 0, 0), datetime.datetime(2022, 12, 29, 0, 0), datetime.datetime(2022, 12, 30, 0, 0), datetime.datetime(2022, 12, 31, 0, 0)]\n"
          ]
        }
      ]
    },
    {
      "cell_type": "code",
      "metadata": {
        "id": "Muc3Vu5P45sZ",
        "colab": {
          "base_uri": "https://localhost:8080/"
        },
        "outputId": "f54c27a1-b196-431d-ba19-2031e8122b40"
      },
      "source": [
        "northernmost_sunset_latitude = []\n",
        "for date in year_2022:\n",
        "  northernmost_sunset_for_date(position=position, date=date)\n",
        "  northernmost_sunset_latitude.append(position.lat)\n",
        "print(northernmost_sunset_latitude)\n"
      ],
      "execution_count": 13,
      "outputs": [
        {
          "output_type": "stream",
          "name": "stdout",
          "text": [
            "<ephem.Observer date='2022/1/1 00:00:00' epoch='2000/1/1 12:00:00' lon='0:00:00.0' lat='67:57:10.1' elevation=0.0m horizon=0:00:00.0 temp=15.0C pressure=1010.0mBar>\n",
            "<ephem.Observer date='2022/1/2 00:00:00' epoch='2000/1/1 12:00:00' lon='0:00:00.0' lat='68:00:36.3' elevation=0.0m horizon=0:00:00.0 temp=15.0C pressure=1010.0mBar>\n",
            "<ephem.Observer date='2022/1/3 00:00:00' epoch='2000/1/1 12:00:00' lon='0:00:00.0' lat='68:07:28.9' elevation=0.0m horizon=0:00:00.0 temp=15.0C pressure=1010.0mBar>\n",
            "<ephem.Observer date='2022/1/4 00:00:00' epoch='2000/1/1 12:00:00' lon='0:00:00.0' lat='68:14:21.4' elevation=0.0m horizon=0:00:00.0 temp=15.0C pressure=1010.0mBar>\n",
            "<ephem.Observer date='2022/1/5 00:00:00' epoch='2000/1/1 12:00:00' lon='0:00:00.0' lat='68:21:13.9' elevation=0.0m horizon=0:00:00.0 temp=15.0C pressure=1010.0mBar>\n",
            "<ephem.Observer date='2022/1/6 00:00:00' epoch='2000/1/1 12:00:00' lon='0:00:00.0' lat='68:28:06.4' elevation=0.0m horizon=0:00:00.0 temp=15.0C pressure=1010.0mBar>\n",
            "<ephem.Observer date='2022/1/7 00:00:00' epoch='2000/1/1 12:00:00' lon='0:00:00.0' lat='68:34:59.0' elevation=0.0m horizon=0:00:00.0 temp=15.0C pressure=1010.0mBar>\n",
            "<ephem.Observer date='2022/1/8 00:00:00' epoch='2000/1/1 12:00:00' lon='0:00:00.0' lat='68:41:51.5' elevation=0.0m horizon=0:00:00.0 temp=15.0C pressure=1010.0mBar>\n",
            "<ephem.Observer date='2022/1/9 00:00:00' epoch='2000/1/1 12:00:00' lon='0:00:00.0' lat='68:52:10.3' elevation=0.0m horizon=0:00:00.0 temp=15.0C pressure=1010.0mBar>\n",
            "<ephem.Observer date='2022/1/10 00:00:00' epoch='2000/1/1 12:00:00' lon='0:00:00.0' lat='68:59:02.8' elevation=0.0m horizon=0:00:00.0 temp=15.0C pressure=1010.0mBar>\n",
            "<ephem.Observer date='2022/1/11 00:00:00' epoch='2000/1/1 12:00:00' lon='0:00:00.0' lat='69:09:21.6' elevation=0.0m horizon=0:00:00.0 temp=15.0C pressure=1010.0mBar>\n",
            "<ephem.Observer date='2022/1/12 00:00:00' epoch='2000/1/1 12:00:00' lon='0:00:00.0' lat='69:19:40.4' elevation=0.0m horizon=0:00:00.0 temp=15.0C pressure=1010.0mBar>\n",
            "<ephem.Observer date='2022/1/13 00:00:00' epoch='2000/1/1 12:00:00' lon='0:00:00.0' lat='69:29:59.2' elevation=0.0m horizon=0:00:00.0 temp=15.0C pressure=1010.0mBar>\n",
            "<ephem.Observer date='2022/1/14 00:00:00' epoch='2000/1/1 12:00:00' lon='0:00:00.0' lat='69:40:18.0' elevation=0.0m horizon=0:00:00.0 temp=15.0C pressure=1010.0mBar>\n",
            "<ephem.Observer date='2022/1/15 00:00:00' epoch='2000/1/1 12:00:00' lon='0:00:00.0' lat='69:50:36.8' elevation=0.0m horizon=0:00:00.0 temp=15.0C pressure=1010.0mBar>\n",
            "<ephem.Observer date='2022/1/16 00:00:00' epoch='2000/1/1 12:00:00' lon='0:00:00.0' lat='70:00:55.6' elevation=0.0m horizon=0:00:00.0 temp=15.0C pressure=1010.0mBar>\n",
            "<ephem.Observer date='2022/1/17 00:00:00' epoch='2000/1/1 12:00:00' lon='0:00:00.0' lat='70:14:40.7' elevation=0.0m horizon=0:00:00.0 temp=15.0C pressure=1010.0mBar>\n",
            "<ephem.Observer date='2022/1/18 00:00:00' epoch='2000/1/1 12:00:00' lon='0:00:00.0' lat='70:24:59.4' elevation=0.0m horizon=0:00:00.0 temp=15.0C pressure=1010.0mBar>\n",
            "<ephem.Observer date='2022/1/19 00:00:00' epoch='2000/1/1 12:00:00' lon='0:00:00.0' lat='70:38:44.5' elevation=0.0m horizon=0:00:00.0 temp=15.0C pressure=1010.0mBar>\n",
            "<ephem.Observer date='2022/1/20 00:00:00' epoch='2000/1/1 12:00:00' lon='0:00:00.0' lat='70:52:29.6' elevation=0.0m horizon=0:00:00.0 temp=15.0C pressure=1010.0mBar>\n",
            "<ephem.Observer date='2022/1/21 00:00:00' epoch='2000/1/1 12:00:00' lon='0:00:00.0' lat='71:06:14.6' elevation=0.0m horizon=0:00:00.0 temp=15.0C pressure=1010.0mBar>\n",
            "<ephem.Observer date='2022/1/22 00:00:00' epoch='2000/1/1 12:00:00' lon='0:00:00.0' lat='71:16:33.4' elevation=0.0m horizon=0:00:00.0 temp=15.0C pressure=1010.0mBar>\n",
            "<ephem.Observer date='2022/1/23 00:00:00' epoch='2000/1/1 12:00:00' lon='0:00:00.0' lat='71:33:44.7' elevation=0.0m horizon=0:00:00.0 temp=15.0C pressure=1010.0mBar>\n",
            "<ephem.Observer date='2022/1/24 00:00:00' epoch='2000/1/1 12:00:00' lon='0:00:00.0' lat='71:47:29.8' elevation=0.0m horizon=0:00:00.0 temp=15.0C pressure=1010.0mBar>\n",
            "<ephem.Observer date='2022/1/25 00:00:00' epoch='2000/1/1 12:00:00' lon='0:00:00.0' lat='72:01:14.9' elevation=0.0m horizon=0:00:00.0 temp=15.0C pressure=1010.0mBar>\n",
            "<ephem.Observer date='2022/1/26 00:00:00' epoch='2000/1/1 12:00:00' lon='0:00:00.0' lat='72:14:59.9' elevation=0.0m horizon=0:00:00.0 temp=15.0C pressure=1010.0mBar>\n",
            "<ephem.Observer date='2022/1/27 00:00:00' epoch='2000/1/1 12:00:00' lon='0:00:00.0' lat='72:32:11.2' elevation=0.0m horizon=0:00:00.0 temp=15.0C pressure=1010.0mBar>\n",
            "<ephem.Observer date='2022/1/28 00:00:00' epoch='2000/1/1 12:00:00' lon='0:00:00.0' lat='72:45:56.3' elevation=0.0m horizon=0:00:00.0 temp=15.0C pressure=1010.0mBar>\n",
            "<ephem.Observer date='2022/1/29 00:00:00' epoch='2000/1/1 12:00:00' lon='0:00:00.0' lat='73:03:07.6' elevation=0.0m horizon=0:00:00.0 temp=15.0C pressure=1010.0mBar>\n",
            "<ephem.Observer date='2022/1/30 00:00:00' epoch='2000/1/1 12:00:00' lon='0:00:00.0' lat='73:20:19.0' elevation=0.0m horizon=0:00:00.0 temp=15.0C pressure=1010.0mBar>\n",
            "<ephem.Observer date='2022/1/31 00:00:00' epoch='2000/1/1 12:00:00' lon='0:00:00.0' lat='73:37:30.3' elevation=0.0m horizon=0:00:00.0 temp=15.0C pressure=1010.0mBar>\n",
            "<ephem.Observer date='2022/2/1 00:00:00' epoch='2000/1/1 12:00:00' lon='0:00:00.0' lat='73:54:41.6' elevation=0.0m horizon=0:00:00.0 temp=15.0C pressure=1010.0mBar>\n",
            "<ephem.Observer date='2022/2/2 00:00:00' epoch='2000/1/1 12:00:00' lon='0:00:00.0' lat='74:11:52.9' elevation=0.0m horizon=0:00:00.0 temp=15.0C pressure=1010.0mBar>\n",
            "<ephem.Observer date='2022/2/3 00:00:00' epoch='2000/1/1 12:00:00' lon='0:00:00.0' lat='74:29:04.2' elevation=0.0m horizon=0:00:00.0 temp=15.0C pressure=1010.0mBar>\n",
            "<ephem.Observer date='2022/2/4 00:00:00' epoch='2000/1/1 12:00:00' lon='0:00:00.0' lat='74:46:15.6' elevation=0.0m horizon=0:00:00.0 temp=15.0C pressure=1010.0mBar>\n",
            "<ephem.Observer date='2022/2/5 00:00:00' epoch='2000/1/1 12:00:00' lon='0:00:00.0' lat='75:03:26.9' elevation=0.0m horizon=0:00:00.0 temp=15.0C pressure=1010.0mBar>\n",
            "<ephem.Observer date='2022/2/6 00:00:00' epoch='2000/1/1 12:00:00' lon='0:00:00.0' lat='75:24:04.5' elevation=0.0m horizon=0:00:00.0 temp=15.0C pressure=1010.0mBar>\n",
            "<ephem.Observer date='2022/2/7 00:00:00' epoch='2000/1/1 12:00:00' lon='0:00:00.0' lat='75:41:15.8' elevation=0.0m horizon=0:00:00.0 temp=15.0C pressure=1010.0mBar>\n",
            "<ephem.Observer date='2022/2/8 00:00:00' epoch='2000/1/1 12:00:00' lon='0:00:00.0' lat='76:01:53.4' elevation=0.0m horizon=0:00:00.0 temp=15.0C pressure=1010.0mBar>\n",
            "<ephem.Observer date='2022/2/9 00:00:00' epoch='2000/1/1 12:00:00' lon='0:00:00.0' lat='76:19:04.7' elevation=0.0m horizon=0:00:00.0 temp=15.0C pressure=1010.0mBar>\n",
            "<ephem.Observer date='2022/2/10 00:00:00' epoch='2000/1/1 12:00:00' lon='0:00:00.0' lat='76:39:42.3' elevation=0.0m horizon=0:00:00.0 temp=15.0C pressure=1010.0mBar>\n",
            "<ephem.Observer date='2022/2/11 00:00:00' epoch='2000/1/1 12:00:00' lon='0:00:00.0' lat='77:00:19.9' elevation=0.0m horizon=0:00:00.0 temp=15.0C pressure=1010.0mBar>\n",
            "<ephem.Observer date='2022/2/12 00:00:00' epoch='2000/1/1 12:00:00' lon='0:00:00.0' lat='77:17:31.2' elevation=0.0m horizon=0:00:00.0 temp=15.0C pressure=1010.0mBar>\n",
            "<ephem.Observer date='2022/2/13 00:00:00' epoch='2000/1/1 12:00:00' lon='0:00:00.0' lat='77:38:08.8' elevation=0.0m horizon=0:00:00.0 temp=15.0C pressure=1010.0mBar>\n",
            "<ephem.Observer date='2022/2/14 00:00:00' epoch='2000/1/1 12:00:00' lon='0:00:00.0' lat='77:58:46.4' elevation=0.0m horizon=0:00:00.0 temp=15.0C pressure=1010.0mBar>\n",
            "<ephem.Observer date='2022/2/15 00:00:00' epoch='2000/1/1 12:00:00' lon='0:00:00.0' lat='78:19:24.0' elevation=0.0m horizon=0:00:00.0 temp=15.0C pressure=1010.0mBar>\n",
            "<ephem.Observer date='2022/2/16 00:00:00' epoch='2000/1/1 12:00:00' lon='0:00:00.0' lat='78:40:01.6' elevation=0.0m horizon=0:00:00.0 temp=15.0C pressure=1010.0mBar>\n",
            "<ephem.Observer date='2022/2/17 00:00:00' epoch='2000/1/1 12:00:00' lon='0:00:00.0' lat='79:00:39.2' elevation=0.0m horizon=0:00:00.0 temp=15.0C pressure=1010.0mBar>\n",
            "<ephem.Observer date='2022/2/18 00:00:00' epoch='2000/1/1 12:00:00' lon='0:00:00.0' lat='79:21:16.8' elevation=0.0m horizon=0:00:00.0 temp=15.0C pressure=1010.0mBar>\n",
            "<ephem.Observer date='2022/2/19 00:00:00' epoch='2000/1/1 12:00:00' lon='0:00:00.0' lat='79:45:20.6' elevation=0.0m horizon=0:00:00.0 temp=15.0C pressure=1010.0mBar>\n",
            "<ephem.Observer date='2022/2/20 00:00:00' epoch='2000/1/1 12:00:00' lon='0:00:00.0' lat='80:05:58.2' elevation=0.0m horizon=0:00:00.0 temp=15.0C pressure=1010.0mBar>\n",
            "<ephem.Observer date='2022/2/21 00:00:00' epoch='2000/1/1 12:00:00' lon='0:00:00.0' lat='80:26:35.8' elevation=0.0m horizon=0:00:00.0 temp=15.0C pressure=1010.0mBar>\n",
            "<ephem.Observer date='2022/2/22 00:00:00' epoch='2000/1/1 12:00:00' lon='0:00:00.0' lat='80:50:39.6' elevation=0.0m horizon=0:00:00.0 temp=15.0C pressure=1010.0mBar>\n",
            "<ephem.Observer date='2022/2/23 00:00:00' epoch='2000/1/1 12:00:00' lon='0:00:00.0' lat='81:11:17.2' elevation=0.0m horizon=0:00:00.0 temp=15.0C pressure=1010.0mBar>\n",
            "<ephem.Observer date='2022/2/24 00:00:00' epoch='2000/1/1 12:00:00' lon='0:00:00.0' lat='81:31:54.8' elevation=0.0m horizon=0:00:00.0 temp=15.0C pressure=1010.0mBar>\n",
            "<ephem.Observer date='2022/2/25 00:00:00' epoch='2000/1/1 12:00:00' lon='0:00:00.0' lat='81:55:58.7' elevation=0.0m horizon=0:00:00.0 temp=15.0C pressure=1010.0mBar>\n",
            "<ephem.Observer date='2022/2/26 00:00:00' epoch='2000/1/1 12:00:00' lon='0:00:00.0' lat='82:16:36.3' elevation=0.0m horizon=0:00:00.0 temp=15.0C pressure=1010.0mBar>\n",
            "<ephem.Observer date='2022/2/27 00:00:00' epoch='2000/1/1 12:00:00' lon='0:00:00.0' lat='82:40:40.1' elevation=0.0m horizon=0:00:00.0 temp=15.0C pressure=1010.0mBar>\n",
            "<ephem.Observer date='2022/2/28 00:00:00' epoch='2000/1/1 12:00:00' lon='0:00:00.0' lat='83:04:44.0' elevation=0.0m horizon=0:00:00.0 temp=15.0C pressure=1010.0mBar>\n",
            "<ephem.Observer date='2022/3/1 00:00:00' epoch='2000/1/1 12:00:00' lon='0:00:00.0' lat='83:25:21.6' elevation=0.0m horizon=0:00:00.0 temp=15.0C pressure=1010.0mBar>\n",
            "<ephem.Observer date='2022/3/2 00:00:00' epoch='2000/1/1 12:00:00' lon='0:00:00.0' lat='83:49:25.4' elevation=0.0m horizon=0:00:00.0 temp=15.0C pressure=1010.0mBar>\n",
            "<ephem.Observer date='2022/3/3 00:00:00' epoch='2000/1/1 12:00:00' lon='0:00:00.0' lat='84:10:03.0' elevation=0.0m horizon=0:00:00.0 temp=15.0C pressure=1010.0mBar>\n",
            "<ephem.Observer date='2022/3/4 00:00:00' epoch='2000/1/1 12:00:00' lon='0:00:00.0' lat='84:34:06.9' elevation=0.0m horizon=0:00:00.0 temp=15.0C pressure=1010.0mBar>\n",
            "<ephem.Observer date='2022/3/5 00:00:00' epoch='2000/1/1 12:00:00' lon='0:00:00.0' lat='84:58:10.7' elevation=0.0m horizon=0:00:00.0 temp=15.0C pressure=1010.0mBar>\n",
            "<ephem.Observer date='2022/3/6 00:00:00' epoch='2000/1/1 12:00:00' lon='0:00:00.0' lat='85:22:14.6' elevation=0.0m horizon=0:00:00.0 temp=15.0C pressure=1010.0mBar>\n",
            "<ephem.Observer date='2022/3/7 00:00:00' epoch='2000/1/1 12:00:00' lon='0:00:00.0' lat='85:42:52.2' elevation=0.0m horizon=0:00:00.0 temp=15.0C pressure=1010.0mBar>\n",
            "<ephem.Observer date='2022/3/8 00:00:00' epoch='2000/1/1 12:00:00' lon='0:00:00.0' lat='86:06:56.0' elevation=0.0m horizon=0:00:00.0 temp=15.0C pressure=1010.0mBar>\n",
            "<ephem.Observer date='2022/3/9 00:00:00' epoch='2000/1/1 12:00:00' lon='0:00:00.0' lat='86:30:59.9' elevation=0.0m horizon=0:00:00.0 temp=15.0C pressure=1010.0mBar>\n",
            "<ephem.Observer date='2022/3/10 00:00:00' epoch='2000/1/1 12:00:00' lon='0:00:00.0' lat='86:55:03.7' elevation=0.0m horizon=0:00:00.0 temp=15.0C pressure=1010.0mBar>\n",
            "<ephem.Observer date='2022/3/11 00:00:00' epoch='2000/1/1 12:00:00' lon='0:00:00.0' lat='87:19:07.6' elevation=0.0m horizon=0:00:00.0 temp=15.0C pressure=1010.0mBar>\n",
            "<ephem.Observer date='2022/3/12 00:00:00' epoch='2000/1/1 12:00:00' lon='0:00:00.0' lat='87:43:11.4' elevation=0.0m horizon=0:00:00.0 temp=15.0C pressure=1010.0mBar>\n",
            "<ephem.Observer date='2022/3/13 00:00:00' epoch='2000/1/1 12:00:00' lon='0:00:00.0' lat='88:07:15.3' elevation=0.0m horizon=0:00:00.0 temp=15.0C pressure=1010.0mBar>\n",
            "<ephem.Observer date='2022/3/14 00:00:00' epoch='2000/1/1 12:00:00' lon='0:00:00.0' lat='88:27:52.9' elevation=0.0m horizon=0:00:00.0 temp=15.0C pressure=1010.0mBar>\n",
            "<ephem.Observer date='2022/3/15 00:00:00' epoch='2000/1/1 12:00:00' lon='0:00:00.0' lat='88:51:56.7' elevation=0.0m horizon=0:00:00.0 temp=15.0C pressure=1010.0mBar>\n",
            "<ephem.Observer date='2022/3/16 00:00:00' epoch='2000/1/1 12:00:00' lon='0:00:00.0' lat='89:16:00.6' elevation=0.0m horizon=0:00:00.0 temp=15.0C pressure=1010.0mBar>\n",
            "<ephem.Observer date='2022/3/17 00:00:00' epoch='2000/1/1 12:00:00' lon='0:00:00.0' lat='89:40:04.4' elevation=0.0m horizon=0:00:00.0 temp=15.0C pressure=1010.0mBar>\n",
            "<ephem.Observer date='2022/3/18 00:00:00' epoch='2000/1/1 12:00:00' lon='0:00:00.0' lat='89:46:57.0' elevation=0.0m horizon=0:00:00.0 temp=15.0C pressure=1010.0mBar>\n",
            "<ephem.Observer date='2022/3/19 00:00:00' epoch='2000/1/1 12:00:00' lon='0:00:00.0' lat='89:22:53.1' elevation=0.0m horizon=0:00:00.0 temp=15.0C pressure=1010.0mBar>\n",
            "<ephem.Observer date='2022/3/20 00:00:00' epoch='2000/1/1 12:00:00' lon='0:00:00.0' lat='88:58:49.2' elevation=0.0m horizon=0:00:00.0 temp=15.0C pressure=1010.0mBar>\n",
            "<ephem.Observer date='2022/3/21 00:00:00' epoch='2000/1/1 12:00:00' lon='0:00:00.0' lat='88:34:45.4' elevation=0.0m horizon=0:00:00.0 temp=15.0C pressure=1010.0mBar>\n",
            "<ephem.Observer date='2022/3/22 00:00:00' epoch='2000/1/1 12:00:00' lon='0:00:00.0' lat='88:14:07.8' elevation=0.0m horizon=0:00:00.0 temp=15.0C pressure=1010.0mBar>\n",
            "<ephem.Observer date='2022/3/23 00:00:00' epoch='2000/1/1 12:00:00' lon='0:00:00.0' lat='87:50:03.9' elevation=0.0m horizon=0:00:00.0 temp=15.0C pressure=1010.0mBar>\n",
            "<ephem.Observer date='2022/3/24 00:00:00' epoch='2000/1/1 12:00:00' lon='0:00:00.0' lat='87:26:00.1' elevation=0.0m horizon=0:00:00.0 temp=15.0C pressure=1010.0mBar>\n",
            "<ephem.Observer date='2022/3/25 00:00:00' epoch='2000/1/1 12:00:00' lon='0:00:00.0' lat='87:01:56.2' elevation=0.0m horizon=0:00:00.0 temp=15.0C pressure=1010.0mBar>\n",
            "<ephem.Observer date='2022/3/26 00:00:00' epoch='2000/1/1 12:00:00' lon='0:00:00.0' lat='86:37:52.4' elevation=0.0m horizon=0:00:00.0 temp=15.0C pressure=1010.0mBar>\n",
            "<ephem.Observer date='2022/3/27 00:00:00' epoch='2000/1/1 12:00:00' lon='0:00:00.0' lat='86:13:48.5' elevation=0.0m horizon=0:00:00.0 temp=15.0C pressure=1010.0mBar>\n",
            "<ephem.Observer date='2022/3/28 00:00:00' epoch='2000/1/1 12:00:00' lon='0:00:00.0' lat='85:53:10.9' elevation=0.0m horizon=0:00:00.0 temp=15.0C pressure=1010.0mBar>\n",
            "<ephem.Observer date='2022/3/29 00:00:00' epoch='2000/1/1 12:00:00' lon='0:00:00.0' lat='85:29:07.1' elevation=0.0m horizon=0:00:00.0 temp=15.0C pressure=1010.0mBar>\n",
            "<ephem.Observer date='2022/3/30 00:00:00' epoch='2000/1/1 12:00:00' lon='0:00:00.0' lat='85:05:03.2' elevation=0.0m horizon=0:00:00.0 temp=15.0C pressure=1010.0mBar>\n",
            "<ephem.Observer date='2022/3/31 00:00:00' epoch='2000/1/1 12:00:00' lon='0:00:00.0' lat='84:40:59.4' elevation=0.0m horizon=0:00:00.0 temp=15.0C pressure=1010.0mBar>\n",
            "<ephem.Observer date='2022/4/1 00:00:00' epoch='2000/1/1 12:00:00' lon='0:00:00.0' lat='84:16:55.5' elevation=0.0m horizon=0:00:00.0 temp=15.0C pressure=1010.0mBar>\n",
            "<ephem.Observer date='2022/4/2 00:00:00' epoch='2000/1/1 12:00:00' lon='0:00:00.0' lat='83:56:17.9' elevation=0.0m horizon=0:00:00.0 temp=15.0C pressure=1010.0mBar>\n",
            "<ephem.Observer date='2022/4/3 00:00:00' epoch='2000/1/1 12:00:00' lon='0:00:00.0' lat='83:32:14.1' elevation=0.0m horizon=0:00:00.0 temp=15.0C pressure=1010.0mBar>\n",
            "<ephem.Observer date='2022/4/4 00:00:00' epoch='2000/1/1 12:00:00' lon='0:00:00.0' lat='83:08:10.2' elevation=0.0m horizon=0:00:00.0 temp=15.0C pressure=1010.0mBar>\n",
            "<ephem.Observer date='2022/4/5 00:00:00' epoch='2000/1/1 12:00:00' lon='0:00:00.0' lat='82:47:32.6' elevation=0.0m horizon=0:00:00.0 temp=15.0C pressure=1010.0mBar>\n",
            "<ephem.Observer date='2022/4/6 00:00:00' epoch='2000/1/1 12:00:00' lon='0:00:00.0' lat='82:23:28.8' elevation=0.0m horizon=0:00:00.0 temp=15.0C pressure=1010.0mBar>\n",
            "<ephem.Observer date='2022/4/7 00:00:00' epoch='2000/1/1 12:00:00' lon='0:00:00.0' lat='82:02:51.2' elevation=0.0m horizon=0:00:00.0 temp=15.0C pressure=1010.0mBar>\n",
            "<ephem.Observer date='2022/4/8 00:00:00' epoch='2000/1/1 12:00:00' lon='0:00:00.0' lat='81:38:47.3' elevation=0.0m horizon=0:00:00.0 temp=15.0C pressure=1010.0mBar>\n",
            "<ephem.Observer date='2022/4/9 00:00:00' epoch='2000/1/1 12:00:00' lon='0:00:00.0' lat='81:18:09.8' elevation=0.0m horizon=0:00:00.0 temp=15.0C pressure=1010.0mBar>\n",
            "<ephem.Observer date='2022/4/10 00:00:00' epoch='2000/1/1 12:00:00' lon='0:00:00.0' lat='80:54:05.9' elevation=0.0m horizon=0:00:00.0 temp=15.0C pressure=1010.0mBar>\n",
            "<ephem.Observer date='2022/4/11 00:00:00' epoch='2000/1/1 12:00:00' lon='0:00:00.0' lat='80:33:28.3' elevation=0.0m horizon=0:00:00.0 temp=15.0C pressure=1010.0mBar>\n",
            "<ephem.Observer date='2022/4/12 00:00:00' epoch='2000/1/1 12:00:00' lon='0:00:00.0' lat='80:09:24.5' elevation=0.0m horizon=0:00:00.0 temp=15.0C pressure=1010.0mBar>\n",
            "<ephem.Observer date='2022/4/13 00:00:00' epoch='2000/1/1 12:00:00' lon='0:00:00.0' lat='79:48:46.9' elevation=0.0m horizon=0:00:00.0 temp=15.0C pressure=1010.0mBar>\n",
            "<ephem.Observer date='2022/4/14 00:00:00' epoch='2000/1/1 12:00:00' lon='0:00:00.0' lat='79:28:09.3' elevation=0.0m horizon=0:00:00.0 temp=15.0C pressure=1010.0mBar>\n",
            "<ephem.Observer date='2022/4/15 00:00:00' epoch='2000/1/1 12:00:00' lon='0:00:00.0' lat='79:07:31.7' elevation=0.0m horizon=0:00:00.0 temp=15.0C pressure=1010.0mBar>\n",
            "<ephem.Observer date='2022/4/16 00:00:00' epoch='2000/1/1 12:00:00' lon='0:00:00.0' lat='78:43:27.8' elevation=0.0m horizon=0:00:00.0 temp=15.0C pressure=1010.0mBar>\n",
            "<ephem.Observer date='2022/4/17 00:00:00' epoch='2000/1/1 12:00:00' lon='0:00:00.0' lat='78:22:50.3' elevation=0.0m horizon=0:00:00.0 temp=15.0C pressure=1010.0mBar>\n",
            "<ephem.Observer date='2022/4/18 00:00:00' epoch='2000/1/1 12:00:00' lon='0:00:00.0' lat='78:02:12.7' elevation=0.0m horizon=0:00:00.0 temp=15.0C pressure=1010.0mBar>\n",
            "<ephem.Observer date='2022/4/19 00:00:00' epoch='2000/1/1 12:00:00' lon='0:00:00.0' lat='77:41:35.1' elevation=0.0m horizon=0:00:00.0 temp=15.0C pressure=1010.0mBar>\n",
            "<ephem.Observer date='2022/4/20 00:00:00' epoch='2000/1/1 12:00:00' lon='0:00:00.0' lat='77:20:57.5' elevation=0.0m horizon=0:00:00.0 temp=15.0C pressure=1010.0mBar>\n",
            "<ephem.Observer date='2022/4/21 00:00:00' epoch='2000/1/1 12:00:00' lon='0:00:00.0' lat='77:00:19.9' elevation=0.0m horizon=0:00:00.0 temp=15.0C pressure=1010.0mBar>\n",
            "<ephem.Observer date='2022/4/22 00:00:00' epoch='2000/1/1 12:00:00' lon='0:00:00.0' lat='76:43:08.6' elevation=0.0m horizon=0:00:00.0 temp=15.0C pressure=1010.0mBar>\n",
            "<ephem.Observer date='2022/4/23 00:00:00' epoch='2000/1/1 12:00:00' lon='0:00:00.0' lat='76:22:31.0' elevation=0.0m horizon=0:00:00.0 temp=15.0C pressure=1010.0mBar>\n",
            "<ephem.Observer date='2022/4/24 00:00:00' epoch='2000/1/1 12:00:00' lon='0:00:00.0' lat='76:01:53.4' elevation=0.0m horizon=0:00:00.0 temp=15.0C pressure=1010.0mBar>\n",
            "<ephem.Observer date='2022/4/25 00:00:00' epoch='2000/1/1 12:00:00' lon='0:00:00.0' lat='75:41:15.8' elevation=0.0m horizon=0:00:00.0 temp=15.0C pressure=1010.0mBar>\n",
            "<ephem.Observer date='2022/4/26 00:00:00' epoch='2000/1/1 12:00:00' lon='0:00:00.0' lat='75:24:04.5' elevation=0.0m horizon=0:00:00.0 temp=15.0C pressure=1010.0mBar>\n",
            "<ephem.Observer date='2022/4/27 00:00:00' epoch='2000/1/1 12:00:00' lon='0:00:00.0' lat='75:03:26.9' elevation=0.0m horizon=0:00:00.0 temp=15.0C pressure=1010.0mBar>\n",
            "<ephem.Observer date='2022/4/28 00:00:00' epoch='2000/1/1 12:00:00' lon='0:00:00.0' lat='74:46:15.6' elevation=0.0m horizon=0:00:00.0 temp=15.0C pressure=1010.0mBar>\n",
            "<ephem.Observer date='2022/4/29 00:00:00' epoch='2000/1/1 12:00:00' lon='0:00:00.0' lat='74:25:38.0' elevation=0.0m horizon=0:00:00.0 temp=15.0C pressure=1010.0mBar>\n",
            "<ephem.Observer date='2022/4/30 00:00:00' epoch='2000/1/1 12:00:00' lon='0:00:00.0' lat='74:08:26.7' elevation=0.0m horizon=0:00:00.0 temp=15.0C pressure=1010.0mBar>\n",
            "<ephem.Observer date='2022/5/1 00:00:00' epoch='2000/1/1 12:00:00' lon='0:00:00.0' lat='73:51:15.3' elevation=0.0m horizon=0:00:00.0 temp=15.0C pressure=1010.0mBar>\n",
            "<ephem.Observer date='2022/5/2 00:00:00' epoch='2000/1/1 12:00:00' lon='0:00:00.0' lat='73:34:04.0' elevation=0.0m horizon=0:00:00.0 temp=15.0C pressure=1010.0mBar>\n",
            "<ephem.Observer date='2022/5/3 00:00:00' epoch='2000/1/1 12:00:00' lon='0:00:00.0' lat='73:13:26.4' elevation=0.0m horizon=0:00:00.0 temp=15.0C pressure=1010.0mBar>\n",
            "<ephem.Observer date='2022/5/4 00:00:00' epoch='2000/1/1 12:00:00' lon='0:00:00.0' lat='72:56:15.1' elevation=0.0m horizon=0:00:00.0 temp=15.0C pressure=1010.0mBar>\n",
            "<ephem.Observer date='2022/5/5 00:00:00' epoch='2000/1/1 12:00:00' lon='0:00:00.0' lat='72:39:03.8' elevation=0.0m horizon=0:00:00.0 temp=15.0C pressure=1010.0mBar>\n",
            "<ephem.Observer date='2022/5/6 00:00:00' epoch='2000/1/1 12:00:00' lon='0:00:00.0' lat='72:25:18.7' elevation=0.0m horizon=0:00:00.0 temp=15.0C pressure=1010.0mBar>\n",
            "<ephem.Observer date='2022/5/7 00:00:00' epoch='2000/1/1 12:00:00' lon='0:00:00.0' lat='72:08:07.4' elevation=0.0m horizon=0:00:00.0 temp=15.0C pressure=1010.0mBar>\n",
            "<ephem.Observer date='2022/5/8 00:00:00' epoch='2000/1/1 12:00:00' lon='0:00:00.0' lat='71:50:56.1' elevation=0.0m horizon=0:00:00.0 temp=15.0C pressure=1010.0mBar>\n",
            "<ephem.Observer date='2022/5/9 00:00:00' epoch='2000/1/1 12:00:00' lon='0:00:00.0' lat='71:33:44.7' elevation=0.0m horizon=0:00:00.0 temp=15.0C pressure=1010.0mBar>\n",
            "<ephem.Observer date='2022/5/10 00:00:00' epoch='2000/1/1 12:00:00' lon='0:00:00.0' lat='71:19:59.7' elevation=0.0m horizon=0:00:00.0 temp=15.0C pressure=1010.0mBar>\n",
            "<ephem.Observer date='2022/5/11 00:00:00' epoch='2000/1/1 12:00:00' lon='0:00:00.0' lat='71:02:48.4' elevation=0.0m horizon=0:00:00.0 temp=15.0C pressure=1010.0mBar>\n",
            "<ephem.Observer date='2022/5/12 00:00:00' epoch='2000/1/1 12:00:00' lon='0:00:00.0' lat='70:49:03.3' elevation=0.0m horizon=0:00:00.0 temp=15.0C pressure=1010.0mBar>\n",
            "<ephem.Observer date='2022/5/13 00:00:00' epoch='2000/1/1 12:00:00' lon='0:00:00.0' lat='70:35:18.2' elevation=0.0m horizon=0:00:00.0 temp=15.0C pressure=1010.0mBar>\n",
            "<ephem.Observer date='2022/5/14 00:00:00' epoch='2000/1/1 12:00:00' lon='0:00:00.0' lat='70:21:33.2' elevation=0.0m horizon=0:00:00.0 temp=15.0C pressure=1010.0mBar>\n",
            "<ephem.Observer date='2022/5/15 00:00:00' epoch='2000/1/1 12:00:00' lon='0:00:00.0' lat='70:07:48.1' elevation=0.0m horizon=0:00:00.0 temp=15.0C pressure=1010.0mBar>\n",
            "<ephem.Observer date='2022/5/16 00:00:00' epoch='2000/1/1 12:00:00' lon='0:00:00.0' lat='69:54:03.1' elevation=0.0m horizon=0:00:00.0 temp=15.0C pressure=1010.0mBar>\n",
            "<ephem.Observer date='2022/5/17 00:00:00' epoch='2000/1/1 12:00:00' lon='0:00:00.0' lat='69:40:18.0' elevation=0.0m horizon=0:00:00.0 temp=15.0C pressure=1010.0mBar>\n",
            "<ephem.Observer date='2022/5/18 00:00:00' epoch='2000/1/1 12:00:00' lon='0:00:00.0' lat='69:26:32.9' elevation=0.0m horizon=0:00:00.0 temp=15.0C pressure=1010.0mBar>\n",
            "<ephem.Observer date='2022/5/19 00:00:00' epoch='2000/1/1 12:00:00' lon='0:00:00.0' lat='69:12:47.9' elevation=0.0m horizon=0:00:00.0 temp=15.0C pressure=1010.0mBar>\n",
            "<ephem.Observer date='2022/5/20 00:00:00' epoch='2000/1/1 12:00:00' lon='0:00:00.0' lat='68:59:02.8' elevation=0.0m horizon=0:00:00.0 temp=15.0C pressure=1010.0mBar>\n",
            "<ephem.Observer date='2022/5/21 00:00:00' epoch='2000/1/1 12:00:00' lon='0:00:00.0' lat='68:48:44.0' elevation=0.0m horizon=0:00:00.0 temp=15.0C pressure=1010.0mBar>\n",
            "<ephem.Observer date='2022/5/22 00:00:00' epoch='2000/1/1 12:00:00' lon='0:00:00.0' lat='68:38:25.2' elevation=0.0m horizon=0:00:00.0 temp=15.0C pressure=1010.0mBar>\n",
            "<ephem.Observer date='2022/5/23 00:00:00' epoch='2000/1/1 12:00:00' lon='0:00:00.0' lat='68:24:40.2' elevation=0.0m horizon=0:00:00.0 temp=15.0C pressure=1010.0mBar>\n",
            "<ephem.Observer date='2022/5/24 00:00:00' epoch='2000/1/1 12:00:00' lon='0:00:00.0' lat='68:14:21.4' elevation=0.0m horizon=0:00:00.0 temp=15.0C pressure=1010.0mBar>\n",
            "<ephem.Observer date='2022/5/25 00:00:00' epoch='2000/1/1 12:00:00' lon='0:00:00.0' lat='68:04:02.6' elevation=0.0m horizon=0:00:00.0 temp=15.0C pressure=1010.0mBar>\n",
            "<ephem.Observer date='2022/5/26 00:00:00' epoch='2000/1/1 12:00:00' lon='0:00:00.0' lat='67:53:43.8' elevation=0.0m horizon=0:00:00.0 temp=15.0C pressure=1010.0mBar>\n",
            "<ephem.Observer date='2022/5/27 00:00:00' epoch='2000/1/1 12:00:00' lon='0:00:00.0' lat='67:43:25.0' elevation=0.0m horizon=0:00:00.0 temp=15.0C pressure=1010.0mBar>\n",
            "<ephem.Observer date='2022/5/28 00:00:00' epoch='2000/1/1 12:00:00' lon='0:00:00.0' lat='67:33:06.2' elevation=0.0m horizon=0:00:00.0 temp=15.0C pressure=1010.0mBar>\n",
            "<ephem.Observer date='2022/5/29 00:00:00' epoch='2000/1/1 12:00:00' lon='0:00:00.0' lat='67:26:13.7' elevation=0.0m horizon=0:00:00.0 temp=15.0C pressure=1010.0mBar>\n",
            "<ephem.Observer date='2022/5/30 00:00:00' epoch='2000/1/1 12:00:00' lon='0:00:00.0' lat='67:15:54.9' elevation=0.0m horizon=0:00:00.0 temp=15.0C pressure=1010.0mBar>\n",
            "<ephem.Observer date='2022/5/31 00:00:00' epoch='2000/1/1 12:00:00' lon='0:00:00.0' lat='67:09:02.4' elevation=0.0m horizon=0:00:00.0 temp=15.0C pressure=1010.0mBar>\n",
            "<ephem.Observer date='2022/6/1 00:00:00' epoch='2000/1/1 12:00:00' lon='0:00:00.0' lat='66:58:43.6' elevation=0.0m horizon=0:00:00.0 temp=15.0C pressure=1010.0mBar>\n",
            "<ephem.Observer date='2022/6/2 00:00:00' epoch='2000/1/1 12:00:00' lon='0:00:00.0' lat='66:51:51.0' elevation=0.0m horizon=0:00:00.0 temp=15.0C pressure=1010.0mBar>\n",
            "<ephem.Observer date='2022/6/3 00:00:00' epoch='2000/1/1 12:00:00' lon='0:00:00.0' lat='66:44:58.5' elevation=0.0m horizon=0:00:00.0 temp=15.0C pressure=1010.0mBar>\n",
            "<ephem.Observer date='2022/6/4 00:00:00' epoch='2000/1/1 12:00:00' lon='0:00:00.0' lat='66:38:06.0' elevation=0.0m horizon=0:00:00.0 temp=15.0C pressure=1010.0mBar>\n",
            "<ephem.Observer date='2022/6/5 00:00:00' epoch='2000/1/1 12:00:00' lon='0:00:00.0' lat='66:31:13.4' elevation=0.0m horizon=0:00:00.0 temp=15.0C pressure=1010.0mBar>\n",
            "<ephem.Observer date='2022/6/6 00:00:00' epoch='2000/1/1 12:00:00' lon='0:00:00.0' lat='66:24:20.9' elevation=0.0m horizon=0:00:00.0 temp=15.0C pressure=1010.0mBar>\n",
            "<ephem.Observer date='2022/6/7 00:00:00' epoch='2000/1/1 12:00:00' lon='0:00:00.0' lat='66:20:54.6' elevation=0.0m horizon=0:00:00.0 temp=15.0C pressure=1010.0mBar>\n",
            "<ephem.Observer date='2022/6/8 00:00:00' epoch='2000/1/1 12:00:00' lon='0:00:00.0' lat='66:14:02.1' elevation=0.0m horizon=0:00:00.0 temp=15.0C pressure=1010.0mBar>\n",
            "<ephem.Observer date='2022/6/9 00:00:00' epoch='2000/1/1 12:00:00' lon='0:00:00.0' lat='66:10:35.9' elevation=0.0m horizon=0:00:00.0 temp=15.0C pressure=1010.0mBar>\n",
            "<ephem.Observer date='2022/6/10 00:00:00' epoch='2000/1/1 12:00:00' lon='0:00:00.0' lat='66:03:43.3' elevation=0.0m horizon=0:00:00.0 temp=15.0C pressure=1010.0mBar>\n",
            "<ephem.Observer date='2022/6/11 00:00:00' epoch='2000/1/1 12:00:00' lon='0:00:00.0' lat='66:00:17.1' elevation=0.0m horizon=0:00:00.0 temp=15.0C pressure=1010.0mBar>\n",
            "<ephem.Observer date='2022/6/12 00:00:00' epoch='2000/1/1 12:00:00' lon='0:00:00.0' lat='65:56:50.8' elevation=0.0m horizon=0:00:00.0 temp=15.0C pressure=1010.0mBar>\n",
            "<ephem.Observer date='2022/6/13 00:00:00' epoch='2000/1/1 12:00:00' lon='0:00:00.0' lat='65:53:24.5' elevation=0.0m horizon=0:00:00.0 temp=15.0C pressure=1010.0mBar>\n",
            "<ephem.Observer date='2022/6/14 00:00:00' epoch='2000/1/1 12:00:00' lon='0:00:00.0' lat='65:49:58.3' elevation=0.0m horizon=0:00:00.0 temp=15.0C pressure=1010.0mBar>\n",
            "<ephem.Observer date='2022/6/15 00:00:00' epoch='2000/1/1 12:00:00' lon='0:00:00.0' lat='65:49:58.3' elevation=0.0m horizon=0:00:00.0 temp=15.0C pressure=1010.0mBar>\n",
            "<ephem.Observer date='2022/6/16 00:00:00' epoch='2000/1/1 12:00:00' lon='0:00:00.0' lat='65:46:32.0' elevation=0.0m horizon=0:00:00.0 temp=15.0C pressure=1010.0mBar>\n",
            "<ephem.Observer date='2022/6/17 00:00:00' epoch='2000/1/1 12:00:00' lon='0:00:00.0' lat='65:46:32.0' elevation=0.0m horizon=0:00:00.0 temp=15.0C pressure=1010.0mBar>\n",
            "<ephem.Observer date='2022/6/18 00:00:00' epoch='2000/1/1 12:00:00' lon='0:00:00.0' lat='65:43:05.7' elevation=0.0m horizon=0:00:00.0 temp=15.0C pressure=1010.0mBar>\n",
            "<ephem.Observer date='2022/6/19 00:00:00' epoch='2000/1/1 12:00:00' lon='0:00:00.0' lat='65:43:05.7' elevation=0.0m horizon=0:00:00.0 temp=15.0C pressure=1010.0mBar>\n",
            "<ephem.Observer date='2022/6/20 00:00:00' epoch='2000/1/1 12:00:00' lon='0:00:00.0' lat='65:43:05.7' elevation=0.0m horizon=0:00:00.0 temp=15.0C pressure=1010.0mBar>\n",
            "<ephem.Observer date='2022/6/21 00:00:00' epoch='2000/1/1 12:00:00' lon='0:00:00.0' lat='65:43:05.7' elevation=0.0m horizon=0:00:00.0 temp=15.0C pressure=1010.0mBar>\n",
            "<ephem.Observer date='2022/6/22 00:00:00' epoch='2000/1/1 12:00:00' lon='0:00:00.0' lat='65:43:05.7' elevation=0.0m horizon=0:00:00.0 temp=15.0C pressure=1010.0mBar>\n",
            "<ephem.Observer date='2022/6/23 00:00:00' epoch='2000/1/1 12:00:00' lon='0:00:00.0' lat='65:43:05.7' elevation=0.0m horizon=0:00:00.0 temp=15.0C pressure=1010.0mBar>\n",
            "<ephem.Observer date='2022/6/24 00:00:00' epoch='2000/1/1 12:00:00' lon='0:00:00.0' lat='65:43:05.7' elevation=0.0m horizon=0:00:00.0 temp=15.0C pressure=1010.0mBar>\n",
            "<ephem.Observer date='2022/6/25 00:00:00' epoch='2000/1/1 12:00:00' lon='0:00:00.0' lat='65:46:32.0' elevation=0.0m horizon=0:00:00.0 temp=15.0C pressure=1010.0mBar>\n",
            "<ephem.Observer date='2022/6/26 00:00:00' epoch='2000/1/1 12:00:00' lon='0:00:00.0' lat='65:46:32.0' elevation=0.0m horizon=0:00:00.0 temp=15.0C pressure=1010.0mBar>\n",
            "<ephem.Observer date='2022/6/27 00:00:00' epoch='2000/1/1 12:00:00' lon='0:00:00.0' lat='65:49:58.3' elevation=0.0m horizon=0:00:00.0 temp=15.0C pressure=1010.0mBar>\n",
            "<ephem.Observer date='2022/6/28 00:00:00' epoch='2000/1/1 12:00:00' lon='0:00:00.0' lat='65:53:24.5' elevation=0.0m horizon=0:00:00.0 temp=15.0C pressure=1010.0mBar>\n",
            "<ephem.Observer date='2022/6/29 00:00:00' epoch='2000/1/1 12:00:00' lon='0:00:00.0' lat='65:53:24.5' elevation=0.0m horizon=0:00:00.0 temp=15.0C pressure=1010.0mBar>\n",
            "<ephem.Observer date='2022/6/30 00:00:00' epoch='2000/1/1 12:00:00' lon='0:00:00.0' lat='65:56:50.8' elevation=0.0m horizon=0:00:00.0 temp=15.0C pressure=1010.0mBar>\n",
            "<ephem.Observer date='2022/7/1 00:00:00' epoch='2000/1/1 12:00:00' lon='0:00:00.0' lat='66:00:17.1' elevation=0.0m horizon=0:00:00.0 temp=15.0C pressure=1010.0mBar>\n",
            "<ephem.Observer date='2022/7/2 00:00:00' epoch='2000/1/1 12:00:00' lon='0:00:00.0' lat='66:07:09.6' elevation=0.0m horizon=0:00:00.0 temp=15.0C pressure=1010.0mBar>\n",
            "<ephem.Observer date='2022/7/3 00:00:00' epoch='2000/1/1 12:00:00' lon='0:00:00.0' lat='66:10:35.9' elevation=0.0m horizon=0:00:00.0 temp=15.0C pressure=1010.0mBar>\n",
            "<ephem.Observer date='2022/7/4 00:00:00' epoch='2000/1/1 12:00:00' lon='0:00:00.0' lat='66:14:02.1' elevation=0.0m horizon=0:00:00.0 temp=15.0C pressure=1010.0mBar>\n",
            "<ephem.Observer date='2022/7/5 00:00:00' epoch='2000/1/1 12:00:00' lon='0:00:00.0' lat='66:20:54.6' elevation=0.0m horizon=0:00:00.0 temp=15.0C pressure=1010.0mBar>\n",
            "<ephem.Observer date='2022/7/6 00:00:00' epoch='2000/1/1 12:00:00' lon='0:00:00.0' lat='66:27:47.2' elevation=0.0m horizon=0:00:00.0 temp=15.0C pressure=1010.0mBar>\n",
            "<ephem.Observer date='2022/7/7 00:00:00' epoch='2000/1/1 12:00:00' lon='0:00:00.0' lat='66:31:13.4' elevation=0.0m horizon=0:00:00.0 temp=15.0C pressure=1010.0mBar>\n",
            "<ephem.Observer date='2022/7/8 00:00:00' epoch='2000/1/1 12:00:00' lon='0:00:00.0' lat='66:38:06.0' elevation=0.0m horizon=0:00:00.0 temp=15.0C pressure=1010.0mBar>\n",
            "<ephem.Observer date='2022/7/9 00:00:00' epoch='2000/1/1 12:00:00' lon='0:00:00.0' lat='66:44:58.5' elevation=0.0m horizon=0:00:00.0 temp=15.0C pressure=1010.0mBar>\n",
            "<ephem.Observer date='2022/7/10 00:00:00' epoch='2000/1/1 12:00:00' lon='0:00:00.0' lat='66:51:51.0' elevation=0.0m horizon=0:00:00.0 temp=15.0C pressure=1010.0mBar>\n",
            "<ephem.Observer date='2022/7/11 00:00:00' epoch='2000/1/1 12:00:00' lon='0:00:00.0' lat='67:02:09.8' elevation=0.0m horizon=0:00:00.0 temp=15.0C pressure=1010.0mBar>\n",
            "<ephem.Observer date='2022/7/12 00:00:00' epoch='2000/1/1 12:00:00' lon='0:00:00.0' lat='67:09:02.4' elevation=0.0m horizon=0:00:00.0 temp=15.0C pressure=1010.0mBar>\n",
            "<ephem.Observer date='2022/7/13 00:00:00' epoch='2000/1/1 12:00:00' lon='0:00:00.0' lat='67:15:54.9' elevation=0.0m horizon=0:00:00.0 temp=15.0C pressure=1010.0mBar>\n",
            "<ephem.Observer date='2022/7/14 00:00:00' epoch='2000/1/1 12:00:00' lon='0:00:00.0' lat='67:26:13.7' elevation=0.0m horizon=0:00:00.0 temp=15.0C pressure=1010.0mBar>\n",
            "<ephem.Observer date='2022/7/15 00:00:00' epoch='2000/1/1 12:00:00' lon='0:00:00.0' lat='67:36:32.5' elevation=0.0m horizon=0:00:00.0 temp=15.0C pressure=1010.0mBar>\n",
            "<ephem.Observer date='2022/7/16 00:00:00' epoch='2000/1/1 12:00:00' lon='0:00:00.0' lat='67:46:51.3' elevation=0.0m horizon=0:00:00.0 temp=15.0C pressure=1010.0mBar>\n",
            "<ephem.Observer date='2022/7/17 00:00:00' epoch='2000/1/1 12:00:00' lon='0:00:00.0' lat='67:53:43.8' elevation=0.0m horizon=0:00:00.0 temp=15.0C pressure=1010.0mBar>\n",
            "<ephem.Observer date='2022/7/18 00:00:00' epoch='2000/1/1 12:00:00' lon='0:00:00.0' lat='68:04:02.6' elevation=0.0m horizon=0:00:00.0 temp=15.0C pressure=1010.0mBar>\n",
            "<ephem.Observer date='2022/7/19 00:00:00' epoch='2000/1/1 12:00:00' lon='0:00:00.0' lat='68:14:21.4' elevation=0.0m horizon=0:00:00.0 temp=15.0C pressure=1010.0mBar>\n",
            "<ephem.Observer date='2022/7/20 00:00:00' epoch='2000/1/1 12:00:00' lon='0:00:00.0' lat='68:28:06.4' elevation=0.0m horizon=0:00:00.0 temp=15.0C pressure=1010.0mBar>\n",
            "<ephem.Observer date='2022/7/21 00:00:00' epoch='2000/1/1 12:00:00' lon='0:00:00.0' lat='68:38:25.2' elevation=0.0m horizon=0:00:00.0 temp=15.0C pressure=1010.0mBar>\n",
            "<ephem.Observer date='2022/7/22 00:00:00' epoch='2000/1/1 12:00:00' lon='0:00:00.0' lat='68:48:44.0' elevation=0.0m horizon=0:00:00.0 temp=15.0C pressure=1010.0mBar>\n",
            "<ephem.Observer date='2022/7/23 00:00:00' epoch='2000/1/1 12:00:00' lon='0:00:00.0' lat='69:02:29.1' elevation=0.0m horizon=0:00:00.0 temp=15.0C pressure=1010.0mBar>\n",
            "<ephem.Observer date='2022/7/24 00:00:00' epoch='2000/1/1 12:00:00' lon='0:00:00.0' lat='69:12:47.9' elevation=0.0m horizon=0:00:00.0 temp=15.0C pressure=1010.0mBar>\n",
            "<ephem.Observer date='2022/7/25 00:00:00' epoch='2000/1/1 12:00:00' lon='0:00:00.0' lat='69:26:32.9' elevation=0.0m horizon=0:00:00.0 temp=15.0C pressure=1010.0mBar>\n",
            "<ephem.Observer date='2022/7/26 00:00:00' epoch='2000/1/1 12:00:00' lon='0:00:00.0' lat='69:40:18.0' elevation=0.0m horizon=0:00:00.0 temp=15.0C pressure=1010.0mBar>\n",
            "<ephem.Observer date='2022/7/27 00:00:00' epoch='2000/1/1 12:00:00' lon='0:00:00.0' lat='69:54:03.1' elevation=0.0m horizon=0:00:00.0 temp=15.0C pressure=1010.0mBar>\n",
            "<ephem.Observer date='2022/7/28 00:00:00' epoch='2000/1/1 12:00:00' lon='0:00:00.0' lat='70:07:48.1' elevation=0.0m horizon=0:00:00.0 temp=15.0C pressure=1010.0mBar>\n",
            "<ephem.Observer date='2022/7/29 00:00:00' epoch='2000/1/1 12:00:00' lon='0:00:00.0' lat='70:21:33.2' elevation=0.0m horizon=0:00:00.0 temp=15.0C pressure=1010.0mBar>\n",
            "<ephem.Observer date='2022/7/30 00:00:00' epoch='2000/1/1 12:00:00' lon='0:00:00.0' lat='70:35:18.2' elevation=0.0m horizon=0:00:00.0 temp=15.0C pressure=1010.0mBar>\n",
            "<ephem.Observer date='2022/7/31 00:00:00' epoch='2000/1/1 12:00:00' lon='0:00:00.0' lat='70:49:03.3' elevation=0.0m horizon=0:00:00.0 temp=15.0C pressure=1010.0mBar>\n",
            "<ephem.Observer date='2022/8/1 00:00:00' epoch='2000/1/1 12:00:00' lon='0:00:00.0' lat='71:06:14.6' elevation=0.0m horizon=0:00:00.0 temp=15.0C pressure=1010.0mBar>\n",
            "<ephem.Observer date='2022/8/2 00:00:00' epoch='2000/1/1 12:00:00' lon='0:00:00.0' lat='71:19:59.7' elevation=0.0m horizon=0:00:00.0 temp=15.0C pressure=1010.0mBar>\n",
            "<ephem.Observer date='2022/8/3 00:00:00' epoch='2000/1/1 12:00:00' lon='0:00:00.0' lat='71:37:11.0' elevation=0.0m horizon=0:00:00.0 temp=15.0C pressure=1010.0mBar>\n",
            "<ephem.Observer date='2022/8/4 00:00:00' epoch='2000/1/1 12:00:00' lon='0:00:00.0' lat='71:50:56.1' elevation=0.0m horizon=0:00:00.0 temp=15.0C pressure=1010.0mBar>\n",
            "<ephem.Observer date='2022/8/5 00:00:00' epoch='2000/1/1 12:00:00' lon='0:00:00.0' lat='72:08:07.4' elevation=0.0m horizon=0:00:00.0 temp=15.0C pressure=1010.0mBar>\n",
            "<ephem.Observer date='2022/8/6 00:00:00' epoch='2000/1/1 12:00:00' lon='0:00:00.0' lat='72:21:52.5' elevation=0.0m horizon=0:00:00.0 temp=15.0C pressure=1010.0mBar>\n",
            "<ephem.Observer date='2022/8/7 00:00:00' epoch='2000/1/1 12:00:00' lon='0:00:00.0' lat='72:39:03.8' elevation=0.0m horizon=0:00:00.0 temp=15.0C pressure=1010.0mBar>\n",
            "<ephem.Observer date='2022/8/8 00:00:00' epoch='2000/1/1 12:00:00' lon='0:00:00.0' lat='72:56:15.1' elevation=0.0m horizon=0:00:00.0 temp=15.0C pressure=1010.0mBar>\n",
            "<ephem.Observer date='2022/8/9 00:00:00' epoch='2000/1/1 12:00:00' lon='0:00:00.0' lat='73:13:26.4' elevation=0.0m horizon=0:00:00.0 temp=15.0C pressure=1010.0mBar>\n",
            "<ephem.Observer date='2022/8/10 00:00:00' epoch='2000/1/1 12:00:00' lon='0:00:00.0' lat='73:30:37.7' elevation=0.0m horizon=0:00:00.0 temp=15.0C pressure=1010.0mBar>\n",
            "<ephem.Observer date='2022/8/11 00:00:00' epoch='2000/1/1 12:00:00' lon='0:00:00.0' lat='73:47:49.1' elevation=0.0m horizon=0:00:00.0 temp=15.0C pressure=1010.0mBar>\n",
            "<ephem.Observer date='2022/8/12 00:00:00' epoch='2000/1/1 12:00:00' lon='0:00:00.0' lat='74:08:26.7' elevation=0.0m horizon=0:00:00.0 temp=15.0C pressure=1010.0mBar>\n",
            "<ephem.Observer date='2022/8/13 00:00:00' epoch='2000/1/1 12:00:00' lon='0:00:00.0' lat='74:25:38.0' elevation=0.0m horizon=0:00:00.0 temp=15.0C pressure=1010.0mBar>\n",
            "<ephem.Observer date='2022/8/14 00:00:00' epoch='2000/1/1 12:00:00' lon='0:00:00.0' lat='74:42:49.3' elevation=0.0m horizon=0:00:00.0 temp=15.0C pressure=1010.0mBar>\n",
            "<ephem.Observer date='2022/8/15 00:00:00' epoch='2000/1/1 12:00:00' lon='0:00:00.0' lat='75:03:26.9' elevation=0.0m horizon=0:00:00.0 temp=15.0C pressure=1010.0mBar>\n",
            "<ephem.Observer date='2022/8/16 00:00:00' epoch='2000/1/1 12:00:00' lon='0:00:00.0' lat='75:20:38.2' elevation=0.0m horizon=0:00:00.0 temp=15.0C pressure=1010.0mBar>\n",
            "<ephem.Observer date='2022/8/17 00:00:00' epoch='2000/1/1 12:00:00' lon='0:00:00.0' lat='75:41:15.8' elevation=0.0m horizon=0:00:00.0 temp=15.0C pressure=1010.0mBar>\n",
            "<ephem.Observer date='2022/8/18 00:00:00' epoch='2000/1/1 12:00:00' lon='0:00:00.0' lat='75:58:27.1' elevation=0.0m horizon=0:00:00.0 temp=15.0C pressure=1010.0mBar>\n",
            "<ephem.Observer date='2022/8/19 00:00:00' epoch='2000/1/1 12:00:00' lon='0:00:00.0' lat='76:19:04.7' elevation=0.0m horizon=0:00:00.0 temp=15.0C pressure=1010.0mBar>\n",
            "<ephem.Observer date='2022/8/20 00:00:00' epoch='2000/1/1 12:00:00' lon='0:00:00.0' lat='76:36:16.0' elevation=0.0m horizon=0:00:00.0 temp=15.0C pressure=1010.0mBar>\n",
            "<ephem.Observer date='2022/8/21 00:00:00' epoch='2000/1/1 12:00:00' lon='0:00:00.0' lat='76:56:53.6' elevation=0.0m horizon=0:00:00.0 temp=15.0C pressure=1010.0mBar>\n",
            "<ephem.Observer date='2022/8/22 00:00:00' epoch='2000/1/1 12:00:00' lon='0:00:00.0' lat='77:17:31.2' elevation=0.0m horizon=0:00:00.0 temp=15.0C pressure=1010.0mBar>\n",
            "<ephem.Observer date='2022/8/23 00:00:00' epoch='2000/1/1 12:00:00' lon='0:00:00.0' lat='77:38:08.8' elevation=0.0m horizon=0:00:00.0 temp=15.0C pressure=1010.0mBar>\n",
            "<ephem.Observer date='2022/8/24 00:00:00' epoch='2000/1/1 12:00:00' lon='0:00:00.0' lat='77:58:46.4' elevation=0.0m horizon=0:00:00.0 temp=15.0C pressure=1010.0mBar>\n",
            "<ephem.Observer date='2022/8/25 00:00:00' epoch='2000/1/1 12:00:00' lon='0:00:00.0' lat='78:19:24.0' elevation=0.0m horizon=0:00:00.0 temp=15.0C pressure=1010.0mBar>\n",
            "<ephem.Observer date='2022/8/26 00:00:00' epoch='2000/1/1 12:00:00' lon='0:00:00.0' lat='78:40:01.6' elevation=0.0m horizon=0:00:00.0 temp=15.0C pressure=1010.0mBar>\n",
            "<ephem.Observer date='2022/8/27 00:00:00' epoch='2000/1/1 12:00:00' lon='0:00:00.0' lat='79:00:39.2' elevation=0.0m horizon=0:00:00.0 temp=15.0C pressure=1010.0mBar>\n",
            "<ephem.Observer date='2022/8/28 00:00:00' epoch='2000/1/1 12:00:00' lon='0:00:00.0' lat='79:21:16.8' elevation=0.0m horizon=0:00:00.0 temp=15.0C pressure=1010.0mBar>\n",
            "<ephem.Observer date='2022/8/29 00:00:00' epoch='2000/1/1 12:00:00' lon='0:00:00.0' lat='79:41:54.3' elevation=0.0m horizon=0:00:00.0 temp=15.0C pressure=1010.0mBar>\n",
            "<ephem.Observer date='2022/8/30 00:00:00' epoch='2000/1/1 12:00:00' lon='0:00:00.0' lat='80:02:31.9' elevation=0.0m horizon=0:00:00.0 temp=15.0C pressure=1010.0mBar>\n",
            "<ephem.Observer date='2022/8/31 00:00:00' epoch='2000/1/1 12:00:00' lon='0:00:00.0' lat='80:26:35.8' elevation=0.0m horizon=0:00:00.0 temp=15.0C pressure=1010.0mBar>\n",
            "<ephem.Observer date='2022/9/1 00:00:00' epoch='2000/1/1 12:00:00' lon='0:00:00.0' lat='80:47:13.4' elevation=0.0m horizon=0:00:00.0 temp=15.0C pressure=1010.0mBar>\n",
            "<ephem.Observer date='2022/9/2 00:00:00' epoch='2000/1/1 12:00:00' lon='0:00:00.0' lat='81:31:54.8' elevation=0.0m horizon=0:00:00.0 temp=15.0C pressure=1010.0mBar>\n",
            "<ephem.Observer date='2022/9/3 00:00:00' epoch='2000/1/1 12:00:00' lon='0:00:00.0' lat='81:52:32.4' elevation=0.0m horizon=0:00:00.0 temp=15.0C pressure=1010.0mBar>\n",
            "<ephem.Observer date='2022/9/4 00:00:00' epoch='2000/1/1 12:00:00' lon='0:00:00.0' lat='82:16:36.3' elevation=0.0m horizon=0:00:00.0 temp=15.0C pressure=1010.0mBar>\n",
            "<ephem.Observer date='2022/9/5 00:00:00' epoch='2000/1/1 12:00:00' lon='0:00:00.0' lat='82:37:13.9' elevation=0.0m horizon=0:00:00.0 temp=15.0C pressure=1010.0mBar>\n",
            "<ephem.Observer date='2022/9/6 00:00:00' epoch='2000/1/1 12:00:00' lon='0:00:00.0' lat='83:01:17.7' elevation=0.0m horizon=0:00:00.0 temp=15.0C pressure=1010.0mBar>\n",
            "<ephem.Observer date='2022/9/7 00:00:00' epoch='2000/1/1 12:00:00' lon='0:00:00.0' lat='83:21:55.3' elevation=0.0m horizon=0:00:00.0 temp=15.0C pressure=1010.0mBar>\n",
            "<ephem.Observer date='2022/9/8 00:00:00' epoch='2000/1/1 12:00:00' lon='0:00:00.0' lat='83:45:59.1' elevation=0.0m horizon=0:00:00.0 temp=15.0C pressure=1010.0mBar>\n",
            "<ephem.Observer date='2022/9/9 00:00:00' epoch='2000/1/1 12:00:00' lon='0:00:00.0' lat='84:06:36.7' elevation=0.0m horizon=0:00:00.0 temp=15.0C pressure=1010.0mBar>\n",
            "<ephem.Observer date='2022/9/10 00:00:00' epoch='2000/1/1 12:00:00' lon='0:00:00.0' lat='84:30:40.6' elevation=0.0m horizon=0:00:00.0 temp=15.0C pressure=1010.0mBar>\n",
            "<ephem.Observer date='2022/9/11 00:00:00' epoch='2000/1/1 12:00:00' lon='0:00:00.0' lat='84:51:18.2' elevation=0.0m horizon=0:00:00.0 temp=15.0C pressure=1010.0mBar>\n",
            "<ephem.Observer date='2022/9/12 00:00:00' epoch='2000/1/1 12:00:00' lon='0:00:00.0' lat='85:15:22.0' elevation=0.0m horizon=0:00:00.0 temp=15.0C pressure=1010.0mBar>\n",
            "<ephem.Observer date='2022/9/13 00:00:00' epoch='2000/1/1 12:00:00' lon='0:00:00.0' lat='85:39:25.9' elevation=0.0m horizon=0:00:00.0 temp=15.0C pressure=1010.0mBar>\n",
            "<ephem.Observer date='2022/9/14 00:00:00' epoch='2000/1/1 12:00:00' lon='0:00:00.0' lat='86:00:03.5' elevation=0.0m horizon=0:00:00.0 temp=15.0C pressure=1010.0mBar>\n",
            "<ephem.Observer date='2022/9/15 00:00:00' epoch='2000/1/1 12:00:00' lon='0:00:00.0' lat='86:24:07.3' elevation=0.0m horizon=0:00:00.0 temp=15.0C pressure=1010.0mBar>\n",
            "<ephem.Observer date='2022/9/16 00:00:00' epoch='2000/1/1 12:00:00' lon='0:00:00.0' lat='86:48:11.2' elevation=0.0m horizon=0:00:00.0 temp=15.0C pressure=1010.0mBar>\n",
            "<ephem.Observer date='2022/9/17 00:00:00' epoch='2000/1/1 12:00:00' lon='0:00:00.0' lat='87:12:15.0' elevation=0.0m horizon=0:00:00.0 temp=15.0C pressure=1010.0mBar>\n",
            "<ephem.Observer date='2022/9/18 00:00:00' epoch='2000/1/1 12:00:00' lon='0:00:00.0' lat='87:32:52.6' elevation=0.0m horizon=0:00:00.0 temp=15.0C pressure=1010.0mBar>\n",
            "<ephem.Observer date='2022/9/19 00:00:00' epoch='2000/1/1 12:00:00' lon='0:00:00.0' lat='87:56:56.5' elevation=0.0m horizon=0:00:00.0 temp=15.0C pressure=1010.0mBar>\n",
            "<ephem.Observer date='2022/9/20 00:00:00' epoch='2000/1/1 12:00:00' lon='0:00:00.0' lat='88:21:00.3' elevation=0.0m horizon=0:00:00.0 temp=15.0C pressure=1010.0mBar>\n",
            "<ephem.Observer date='2022/9/21 00:00:00' epoch='2000/1/1 12:00:00' lon='0:00:00.0' lat='88:45:04.2' elevation=0.0m horizon=0:00:00.0 temp=15.0C pressure=1010.0mBar>\n",
            "<ephem.Observer date='2022/9/22 00:00:00' epoch='2000/1/1 12:00:00' lon='0:00:00.0' lat='89:09:08.0' elevation=0.0m horizon=0:00:00.0 temp=15.0C pressure=1010.0mBar>\n",
            "<ephem.Observer date='2022/9/23 00:00:00' epoch='2000/1/1 12:00:00' lon='0:00:00.0' lat='89:29:45.6' elevation=0.0m horizon=0:00:00.0 temp=15.0C pressure=1010.0mBar>\n",
            "<ephem.Observer date='2022/9/24 00:00:00' epoch='2000/1/1 12:00:00' lon='0:00:00.0' lat='89:53:49.5' elevation=0.0m horizon=0:00:00.0 temp=15.0C pressure=1010.0mBar>\n",
            "<ephem.Observer date='2022/9/25 00:00:00' epoch='2000/1/1 12:00:00' lon='0:00:00.0' lat='89:57:15.7' elevation=0.0m horizon=0:00:00.0 temp=15.0C pressure=1010.0mBar>\n",
            "<ephem.Observer date='2022/9/26 00:00:00' epoch='2000/1/1 12:00:00' lon='0:00:00.0' lat='89:33:11.9' elevation=0.0m horizon=0:00:00.0 temp=15.0C pressure=1010.0mBar>\n",
            "<ephem.Observer date='2022/9/27 00:00:00' epoch='2000/1/1 12:00:00' lon='0:00:00.0' lat='89:09:08.0' elevation=0.0m horizon=0:00:00.0 temp=15.0C pressure=1010.0mBar>\n",
            "<ephem.Observer date='2022/9/28 00:00:00' epoch='2000/1/1 12:00:00' lon='0:00:00.0' lat='88:48:30.4' elevation=0.0m horizon=0:00:00.0 temp=15.0C pressure=1010.0mBar>\n",
            "<ephem.Observer date='2022/9/29 00:00:00' epoch='2000/1/1 12:00:00' lon='0:00:00.0' lat='88:24:26.6' elevation=0.0m horizon=0:00:00.0 temp=15.0C pressure=1010.0mBar>\n",
            "<ephem.Observer date='2022/9/30 00:00:00' epoch='2000/1/1 12:00:00' lon='0:00:00.0' lat='88:00:22.7' elevation=0.0m horizon=0:00:00.0 temp=15.0C pressure=1010.0mBar>\n",
            "<ephem.Observer date='2022/10/1 00:00:00' epoch='2000/1/1 12:00:00' lon='0:00:00.0' lat='87:36:18.9' elevation=0.0m horizon=0:00:00.0 temp=15.0C pressure=1010.0mBar>\n",
            "<ephem.Observer date='2022/10/2 00:00:00' epoch='2000/1/1 12:00:00' lon='0:00:00.0' lat='87:15:41.3' elevation=0.0m horizon=0:00:00.0 temp=15.0C pressure=1010.0mBar>\n",
            "<ephem.Observer date='2022/10/3 00:00:00' epoch='2000/1/1 12:00:00' lon='0:00:00.0' lat='86:51:37.4' elevation=0.0m horizon=0:00:00.0 temp=15.0C pressure=1010.0mBar>\n",
            "<ephem.Observer date='2022/10/4 00:00:00' epoch='2000/1/1 12:00:00' lon='0:00:00.0' lat='86:27:33.6' elevation=0.0m horizon=0:00:00.0 temp=15.0C pressure=1010.0mBar>\n",
            "<ephem.Observer date='2022/10/5 00:00:00' epoch='2000/1/1 12:00:00' lon='0:00:00.0' lat='86:03:29.7' elevation=0.0m horizon=0:00:00.0 temp=15.0C pressure=1010.0mBar>\n",
            "<ephem.Observer date='2022/10/6 00:00:00' epoch='2000/1/1 12:00:00' lon='0:00:00.0' lat='85:42:52.2' elevation=0.0m horizon=0:00:00.0 temp=15.0C pressure=1010.0mBar>\n",
            "<ephem.Observer date='2022/10/7 00:00:00' epoch='2000/1/1 12:00:00' lon='0:00:00.0' lat='85:18:48.3' elevation=0.0m horizon=0:00:00.0 temp=15.0C pressure=1010.0mBar>\n",
            "<ephem.Observer date='2022/10/8 00:00:00' epoch='2000/1/1 12:00:00' lon='0:00:00.0' lat='84:54:44.4' elevation=0.0m horizon=0:00:00.0 temp=15.0C pressure=1010.0mBar>\n",
            "<ephem.Observer date='2022/10/9 00:00:00' epoch='2000/1/1 12:00:00' lon='0:00:00.0' lat='84:34:06.9' elevation=0.0m horizon=0:00:00.0 temp=15.0C pressure=1010.0mBar>\n",
            "<ephem.Observer date='2022/10/10 00:00:00' epoch='2000/1/1 12:00:00' lon='0:00:00.0' lat='84:10:03.0' elevation=0.0m horizon=0:00:00.0 temp=15.0C pressure=1010.0mBar>\n",
            "<ephem.Observer date='2022/10/11 00:00:00' epoch='2000/1/1 12:00:00' lon='0:00:00.0' lat='83:49:25.4' elevation=0.0m horizon=0:00:00.0 temp=15.0C pressure=1010.0mBar>\n",
            "<ephem.Observer date='2022/10/12 00:00:00' epoch='2000/1/1 12:00:00' lon='0:00:00.0' lat='83:25:21.6' elevation=0.0m horizon=0:00:00.0 temp=15.0C pressure=1010.0mBar>\n",
            "<ephem.Observer date='2022/10/13 00:00:00' epoch='2000/1/1 12:00:00' lon='0:00:00.0' lat='83:01:17.7' elevation=0.0m horizon=0:00:00.0 temp=15.0C pressure=1010.0mBar>\n",
            "<ephem.Observer date='2022/10/14 00:00:00' epoch='2000/1/1 12:00:00' lon='0:00:00.0' lat='82:40:40.1' elevation=0.0m horizon=0:00:00.0 temp=15.0C pressure=1010.0mBar>\n",
            "<ephem.Observer date='2022/10/15 00:00:00' epoch='2000/1/1 12:00:00' lon='0:00:00.0' lat='82:20:02.5' elevation=0.0m horizon=0:00:00.0 temp=15.0C pressure=1010.0mBar>\n",
            "<ephem.Observer date='2022/10/16 00:00:00' epoch='2000/1/1 12:00:00' lon='0:00:00.0' lat='81:55:58.7' elevation=0.0m horizon=0:00:00.0 temp=15.0C pressure=1010.0mBar>\n",
            "<ephem.Observer date='2022/10/17 00:00:00' epoch='2000/1/1 12:00:00' lon='0:00:00.0' lat='81:35:21.1' elevation=0.0m horizon=0:00:00.0 temp=15.0C pressure=1010.0mBar>\n",
            "<ephem.Observer date='2022/10/18 00:00:00' epoch='2000/1/1 12:00:00' lon='0:00:00.0' lat='81:11:17.2' elevation=0.0m horizon=0:00:00.0 temp=15.0C pressure=1010.0mBar>\n",
            "<ephem.Observer date='2022/10/19 00:00:00' epoch='2000/1/1 12:00:00' lon='0:00:00.0' lat='80:50:39.6' elevation=0.0m horizon=0:00:00.0 temp=15.0C pressure=1010.0mBar>\n",
            "<ephem.Observer date='2022/10/20 00:00:00' epoch='2000/1/1 12:00:00' lon='0:00:00.0' lat='80:30:02.1' elevation=0.0m horizon=0:00:00.0 temp=15.0C pressure=1010.0mBar>\n",
            "<ephem.Observer date='2022/10/21 00:00:00' epoch='2000/1/1 12:00:00' lon='0:00:00.0' lat='80:09:24.5' elevation=0.0m horizon=0:00:00.0 temp=15.0C pressure=1010.0mBar>\n",
            "<ephem.Observer date='2022/10/22 00:00:00' epoch='2000/1/1 12:00:00' lon='0:00:00.0' lat='79:45:20.6' elevation=0.0m horizon=0:00:00.0 temp=15.0C pressure=1010.0mBar>\n",
            "<ephem.Observer date='2022/10/23 00:00:00' epoch='2000/1/1 12:00:00' lon='0:00:00.0' lat='79:24:43.0' elevation=0.0m horizon=0:00:00.0 temp=15.0C pressure=1010.0mBar>\n",
            "<ephem.Observer date='2022/10/24 00:00:00' epoch='2000/1/1 12:00:00' lon='0:00:00.0' lat='79:04:05.4' elevation=0.0m horizon=0:00:00.0 temp=15.0C pressure=1010.0mBar>\n",
            "<ephem.Observer date='2022/10/25 00:00:00' epoch='2000/1/1 12:00:00' lon='0:00:00.0' lat='78:43:27.8' elevation=0.0m horizon=0:00:00.0 temp=15.0C pressure=1010.0mBar>\n",
            "<ephem.Observer date='2022/10/26 00:00:00' epoch='2000/1/1 12:00:00' lon='0:00:00.0' lat='78:22:50.3' elevation=0.0m horizon=0:00:00.0 temp=15.0C pressure=1010.0mBar>\n",
            "<ephem.Observer date='2022/10/27 00:00:00' epoch='2000/1/1 12:00:00' lon='0:00:00.0' lat='78:02:12.7' elevation=0.0m horizon=0:00:00.0 temp=15.0C pressure=1010.0mBar>\n",
            "<ephem.Observer date='2022/10/28 00:00:00' epoch='2000/1/1 12:00:00' lon='0:00:00.0' lat='77:41:35.1' elevation=0.0m horizon=0:00:00.0 temp=15.0C pressure=1010.0mBar>\n",
            "<ephem.Observer date='2022/10/29 00:00:00' epoch='2000/1/1 12:00:00' lon='0:00:00.0' lat='77:24:23.8' elevation=0.0m horizon=0:00:00.0 temp=15.0C pressure=1010.0mBar>\n",
            "<ephem.Observer date='2022/10/30 00:00:00' epoch='2000/1/1 12:00:00' lon='0:00:00.0' lat='77:03:46.2' elevation=0.0m horizon=0:00:00.0 temp=15.0C pressure=1010.0mBar>\n",
            "<ephem.Observer date='2022/10/31 00:00:00' epoch='2000/1/1 12:00:00' lon='0:00:00.0' lat='76:43:08.6' elevation=0.0m horizon=0:00:00.0 temp=15.0C pressure=1010.0mBar>\n",
            "<ephem.Observer date='2022/11/1 00:00:00' epoch='2000/1/1 12:00:00' lon='0:00:00.0' lat='76:25:57.3' elevation=0.0m horizon=0:00:00.0 temp=15.0C pressure=1010.0mBar>\n",
            "<ephem.Observer date='2022/11/2 00:00:00' epoch='2000/1/1 12:00:00' lon='0:00:00.0' lat='76:05:19.7' elevation=0.0m horizon=0:00:00.0 temp=15.0C pressure=1010.0mBar>\n",
            "<ephem.Observer date='2022/11/3 00:00:00' epoch='2000/1/1 12:00:00' lon='0:00:00.0' lat='75:48:08.3' elevation=0.0m horizon=0:00:00.0 temp=15.0C pressure=1010.0mBar>\n",
            "<ephem.Observer date='2022/11/4 00:00:00' epoch='2000/1/1 12:00:00' lon='0:00:00.0' lat='75:27:30.7' elevation=0.0m horizon=0:00:00.0 temp=15.0C pressure=1010.0mBar>\n",
            "<ephem.Observer date='2022/11/5 00:00:00' epoch='2000/1/1 12:00:00' lon='0:00:00.0' lat='75:10:19.4' elevation=0.0m horizon=0:00:00.0 temp=15.0C pressure=1010.0mBar>\n",
            "<ephem.Observer date='2022/11/6 00:00:00' epoch='2000/1/1 12:00:00' lon='0:00:00.0' lat='74:53:08.1' elevation=0.0m horizon=0:00:00.0 temp=15.0C pressure=1010.0mBar>\n",
            "<ephem.Observer date='2022/11/7 00:00:00' epoch='2000/1/1 12:00:00' lon='0:00:00.0' lat='74:32:30.5' elevation=0.0m horizon=0:00:00.0 temp=15.0C pressure=1010.0mBar>\n",
            "<ephem.Observer date='2022/11/8 00:00:00' epoch='2000/1/1 12:00:00' lon='0:00:00.0' lat='74:15:19.2' elevation=0.0m horizon=0:00:00.0 temp=15.0C pressure=1010.0mBar>\n",
            "<ephem.Observer date='2022/11/9 00:00:00' epoch='2000/1/1 12:00:00' lon='0:00:00.0' lat='73:58:07.9' elevation=0.0m horizon=0:00:00.0 temp=15.0C pressure=1010.0mBar>\n",
            "<ephem.Observer date='2022/11/10 00:00:00' epoch='2000/1/1 12:00:00' lon='0:00:00.0' lat='73:40:56.5' elevation=0.0m horizon=0:00:00.0 temp=15.0C pressure=1010.0mBar>\n",
            "<ephem.Observer date='2022/11/11 00:00:00' epoch='2000/1/1 12:00:00' lon='0:00:00.0' lat='73:27:11.5' elevation=0.0m horizon=0:00:00.0 temp=15.0C pressure=1010.0mBar>\n",
            "<ephem.Observer date='2022/11/12 00:00:00' epoch='2000/1/1 12:00:00' lon='0:00:00.0' lat='73:10:00.2' elevation=0.0m horizon=0:00:00.0 temp=15.0C pressure=1010.0mBar>\n",
            "<ephem.Observer date='2022/11/13 00:00:00' epoch='2000/1/1 12:00:00' lon='0:00:00.0' lat='72:52:48.8' elevation=0.0m horizon=0:00:00.0 temp=15.0C pressure=1010.0mBar>\n",
            "<ephem.Observer date='2022/11/14 00:00:00' epoch='2000/1/1 12:00:00' lon='0:00:00.0' lat='72:39:03.8' elevation=0.0m horizon=0:00:00.0 temp=15.0C pressure=1010.0mBar>\n",
            "<ephem.Observer date='2022/11/15 00:00:00' epoch='2000/1/1 12:00:00' lon='0:00:00.0' lat='72:21:52.5' elevation=0.0m horizon=0:00:00.0 temp=15.0C pressure=1010.0mBar>\n",
            "<ephem.Observer date='2022/11/16 00:00:00' epoch='2000/1/1 12:00:00' lon='0:00:00.0' lat='72:08:07.4' elevation=0.0m horizon=0:00:00.0 temp=15.0C pressure=1010.0mBar>\n",
            "<ephem.Observer date='2022/11/17 00:00:00' epoch='2000/1/1 12:00:00' lon='0:00:00.0' lat='71:54:22.3' elevation=0.0m horizon=0:00:00.0 temp=15.0C pressure=1010.0mBar>\n",
            "<ephem.Observer date='2022/11/18 00:00:00' epoch='2000/1/1 12:00:00' lon='0:00:00.0' lat='71:37:11.0' elevation=0.0m horizon=0:00:00.0 temp=15.0C pressure=1010.0mBar>\n",
            "<ephem.Observer date='2022/11/19 00:00:00' epoch='2000/1/1 12:00:00' lon='0:00:00.0' lat='71:23:25.9' elevation=0.0m horizon=0:00:00.0 temp=15.0C pressure=1010.0mBar>\n",
            "<ephem.Observer date='2022/11/20 00:00:00' epoch='2000/1/1 12:00:00' lon='0:00:00.0' lat='71:09:40.9' elevation=0.0m horizon=0:00:00.0 temp=15.0C pressure=1010.0mBar>\n",
            "<ephem.Observer date='2022/11/21 00:00:00' epoch='2000/1/1 12:00:00' lon='0:00:00.0' lat='70:55:55.8' elevation=0.0m horizon=0:00:00.0 temp=15.0C pressure=1010.0mBar>\n",
            "<ephem.Observer date='2022/11/22 00:00:00' epoch='2000/1/1 12:00:00' lon='0:00:00.0' lat='70:45:37.0' elevation=0.0m horizon=0:00:00.0 temp=15.0C pressure=1010.0mBar>\n",
            "<ephem.Observer date='2022/11/23 00:00:00' epoch='2000/1/1 12:00:00' lon='0:00:00.0' lat='70:31:52.0' elevation=0.0m horizon=0:00:00.0 temp=15.0C pressure=1010.0mBar>\n",
            "<ephem.Observer date='2022/11/24 00:00:00' epoch='2000/1/1 12:00:00' lon='0:00:00.0' lat='70:18:06.9' elevation=0.0m horizon=0:00:00.0 temp=15.0C pressure=1010.0mBar>\n",
            "<ephem.Observer date='2022/11/25 00:00:00' epoch='2000/1/1 12:00:00' lon='0:00:00.0' lat='70:07:48.1' elevation=0.0m horizon=0:00:00.0 temp=15.0C pressure=1010.0mBar>\n",
            "<ephem.Observer date='2022/11/26 00:00:00' epoch='2000/1/1 12:00:00' lon='0:00:00.0' lat='69:57:29.3' elevation=0.0m horizon=0:00:00.0 temp=15.0C pressure=1010.0mBar>\n",
            "<ephem.Observer date='2022/11/27 00:00:00' epoch='2000/1/1 12:00:00' lon='0:00:00.0' lat='69:43:44.3' elevation=0.0m horizon=0:00:00.0 temp=15.0C pressure=1010.0mBar>\n",
            "<ephem.Observer date='2022/11/28 00:00:00' epoch='2000/1/1 12:00:00' lon='0:00:00.0' lat='69:33:25.5' elevation=0.0m horizon=0:00:00.0 temp=15.0C pressure=1010.0mBar>\n",
            "<ephem.Observer date='2022/11/29 00:00:00' epoch='2000/1/1 12:00:00' lon='0:00:00.0' lat='69:23:06.7' elevation=0.0m horizon=0:00:00.0 temp=15.0C pressure=1010.0mBar>\n",
            "<ephem.Observer date='2022/11/30 00:00:00' epoch='2000/1/1 12:00:00' lon='0:00:00.0' lat='69:12:47.9' elevation=0.0m horizon=0:00:00.0 temp=15.0C pressure=1010.0mBar>\n",
            "<ephem.Observer date='2022/12/1 00:00:00' epoch='2000/1/1 12:00:00' lon='0:00:00.0' lat='69:05:55.4' elevation=0.0m horizon=0:00:00.0 temp=15.0C pressure=1010.0mBar>\n",
            "<ephem.Observer date='2022/12/2 00:00:00' epoch='2000/1/1 12:00:00' lon='0:00:00.0' lat='68:55:36.6' elevation=0.0m horizon=0:00:00.0 temp=15.0C pressure=1010.0mBar>\n",
            "<ephem.Observer date='2022/12/3 00:00:00' epoch='2000/1/1 12:00:00' lon='0:00:00.0' lat='68:48:44.0' elevation=0.0m horizon=0:00:00.0 temp=15.0C pressure=1010.0mBar>\n",
            "<ephem.Observer date='2022/12/4 00:00:00' epoch='2000/1/1 12:00:00' lon='0:00:00.0' lat='68:38:25.2' elevation=0.0m horizon=0:00:00.0 temp=15.0C pressure=1010.0mBar>\n",
            "<ephem.Observer date='2022/12/5 00:00:00' epoch='2000/1/1 12:00:00' lon='0:00:00.0' lat='68:31:32.7' elevation=0.0m horizon=0:00:00.0 temp=15.0C pressure=1010.0mBar>\n",
            "<ephem.Observer date='2022/12/6 00:00:00' epoch='2000/1/1 12:00:00' lon='0:00:00.0' lat='68:24:40.2' elevation=0.0m horizon=0:00:00.0 temp=15.0C pressure=1010.0mBar>\n",
            "<ephem.Observer date='2022/12/7 00:00:00' epoch='2000/1/1 12:00:00' lon='0:00:00.0' lat='68:17:47.6' elevation=0.0m horizon=0:00:00.0 temp=15.0C pressure=1010.0mBar>\n",
            "<ephem.Observer date='2022/12/8 00:00:00' epoch='2000/1/1 12:00:00' lon='0:00:00.0' lat='68:10:55.1' elevation=0.0m horizon=0:00:00.0 temp=15.0C pressure=1010.0mBar>\n",
            "<ephem.Observer date='2022/12/9 00:00:00' epoch='2000/1/1 12:00:00' lon='0:00:00.0' lat='68:04:02.6' elevation=0.0m horizon=0:00:00.0 temp=15.0C pressure=1010.0mBar>\n",
            "<ephem.Observer date='2022/12/10 00:00:00' epoch='2000/1/1 12:00:00' lon='0:00:00.0' lat='68:00:36.3' elevation=0.0m horizon=0:00:00.0 temp=15.0C pressure=1010.0mBar>\n",
            "<ephem.Observer date='2022/12/11 00:00:00' epoch='2000/1/1 12:00:00' lon='0:00:00.0' lat='67:53:43.8' elevation=0.0m horizon=0:00:00.0 temp=15.0C pressure=1010.0mBar>\n",
            "<ephem.Observer date='2022/12/12 00:00:00' epoch='2000/1/1 12:00:00' lon='0:00:00.0' lat='67:50:17.5' elevation=0.0m horizon=0:00:00.0 temp=15.0C pressure=1010.0mBar>\n",
            "<ephem.Observer date='2022/12/13 00:00:00' epoch='2000/1/1 12:00:00' lon='0:00:00.0' lat='67:46:51.3' elevation=0.0m horizon=0:00:00.0 temp=15.0C pressure=1010.0mBar>\n",
            "<ephem.Observer date='2022/12/14 00:00:00' epoch='2000/1/1 12:00:00' lon='0:00:00.0' lat='67:43:25.0' elevation=0.0m horizon=0:00:00.0 temp=15.0C pressure=1010.0mBar>\n",
            "<ephem.Observer date='2022/12/15 00:00:00' epoch='2000/1/1 12:00:00' lon='0:00:00.0' lat='67:39:58.7' elevation=0.0m horizon=0:00:00.0 temp=15.0C pressure=1010.0mBar>\n",
            "<ephem.Observer date='2022/12/16 00:00:00' epoch='2000/1/1 12:00:00' lon='0:00:00.0' lat='67:36:32.5' elevation=0.0m horizon=0:00:00.0 temp=15.0C pressure=1010.0mBar>\n",
            "<ephem.Observer date='2022/12/17 00:00:00' epoch='2000/1/1 12:00:00' lon='0:00:00.0' lat='67:33:06.2' elevation=0.0m horizon=0:00:00.0 temp=15.0C pressure=1010.0mBar>\n",
            "<ephem.Observer date='2022/12/18 00:00:00' epoch='2000/1/1 12:00:00' lon='0:00:00.0' lat='67:33:06.2' elevation=0.0m horizon=0:00:00.0 temp=15.0C pressure=1010.0mBar>\n",
            "<ephem.Observer date='2022/12/19 00:00:00' epoch='2000/1/1 12:00:00' lon='0:00:00.0' lat='67:29:39.9' elevation=0.0m horizon=0:00:00.0 temp=15.0C pressure=1010.0mBar>\n",
            "<ephem.Observer date='2022/12/20 00:00:00' epoch='2000/1/1 12:00:00' lon='0:00:00.0' lat='67:29:39.9' elevation=0.0m horizon=0:00:00.0 temp=15.0C pressure=1010.0mBar>\n",
            "<ephem.Observer date='2022/12/21 00:00:00' epoch='2000/1/1 12:00:00' lon='0:00:00.0' lat='67:29:39.9' elevation=0.0m horizon=0:00:00.0 temp=15.0C pressure=1010.0mBar>\n",
            "<ephem.Observer date='2022/12/22 00:00:00' epoch='2000/1/1 12:00:00' lon='0:00:00.0' lat='67:29:39.9' elevation=0.0m horizon=0:00:00.0 temp=15.0C pressure=1010.0mBar>\n",
            "<ephem.Observer date='2022/12/23 00:00:00' epoch='2000/1/1 12:00:00' lon='0:00:00.0' lat='67:29:39.9' elevation=0.0m horizon=0:00:00.0 temp=15.0C pressure=1010.0mBar>\n",
            "<ephem.Observer date='2022/12/24 00:00:00' epoch='2000/1/1 12:00:00' lon='0:00:00.0' lat='67:29:39.9' elevation=0.0m horizon=0:00:00.0 temp=15.0C pressure=1010.0mBar>\n",
            "<ephem.Observer date='2022/12/25 00:00:00' epoch='2000/1/1 12:00:00' lon='0:00:00.0' lat='67:33:06.2' elevation=0.0m horizon=0:00:00.0 temp=15.0C pressure=1010.0mBar>\n",
            "<ephem.Observer date='2022/12/26 00:00:00' epoch='2000/1/1 12:00:00' lon='0:00:00.0' lat='67:33:06.2' elevation=0.0m horizon=0:00:00.0 temp=15.0C pressure=1010.0mBar>\n",
            "<ephem.Observer date='2022/12/27 00:00:00' epoch='2000/1/1 12:00:00' lon='0:00:00.0' lat='67:36:32.5' elevation=0.0m horizon=0:00:00.0 temp=15.0C pressure=1010.0mBar>\n",
            "<ephem.Observer date='2022/12/28 00:00:00' epoch='2000/1/1 12:00:00' lon='0:00:00.0' lat='67:39:58.7' elevation=0.0m horizon=0:00:00.0 temp=15.0C pressure=1010.0mBar>\n",
            "<ephem.Observer date='2022/12/29 00:00:00' epoch='2000/1/1 12:00:00' lon='0:00:00.0' lat='67:43:25.0' elevation=0.0m horizon=0:00:00.0 temp=15.0C pressure=1010.0mBar>\n",
            "<ephem.Observer date='2022/12/30 00:00:00' epoch='2000/1/1 12:00:00' lon='0:00:00.0' lat='67:46:51.3' elevation=0.0m horizon=0:00:00.0 temp=15.0C pressure=1010.0mBar>\n",
            "<ephem.Observer date='2022/12/31 00:00:00' epoch='2000/1/1 12:00:00' lon='0:00:00.0' lat='67:50:17.5' elevation=0.0m horizon=0:00:00.0 temp=15.0C pressure=1010.0mBar>\n",
            "[1.1859999999999802, 1.18699999999998, 1.1889999999999799, 1.1909999999999796, 1.1929999999999794, 1.1949999999999792, 1.196999999999979, 1.1989999999999787, 1.2019999999999784, 1.2039999999999782, 1.2069999999999779, 1.2099999999999775, 1.2129999999999772, 1.2159999999999769, 1.2189999999999765, 1.2219999999999762, 1.2259999999999758, 1.2289999999999754, 1.232999999999975, 1.2369999999999746, 1.2409999999999741, 1.2439999999999738, 1.2489999999999732, 1.2529999999999728, 1.2569999999999724, 1.260999999999972, 1.2659999999999714, 1.269999999999971, 1.2749999999999704, 1.2799999999999698, 1.2849999999999693, 1.2899999999999687, 1.2949999999999682, 1.2999999999999676, 1.304999999999967, 1.3099999999999665, 1.3159999999999659, 1.3209999999999653, 1.3269999999999647, 1.331999999999964, 1.3379999999999634, 1.3439999999999628, 1.3489999999999622, 1.3549999999999616, 1.360999999999961, 1.3669999999999602, 1.3729999999999596, 1.378999999999959, 1.3849999999999583, 1.3919999999999575, 1.3979999999999568, 1.4039999999999562, 1.4109999999999554, 1.4169999999999547, 1.422999999999954, 1.4299999999999533, 1.4359999999999526, 1.4429999999999519, 1.449999999999951, 1.4559999999999504, 1.4629999999999497, 1.468999999999949, 1.4759999999999482, 1.4829999999999475, 1.4899999999999467, 1.495999999999946, 1.5029999999999453, 1.5099999999999445, 1.5169999999999437, 1.523999999999943, 1.5309999999999422, 1.5379999999999414, 1.5439999999999408, 1.55099999999994, 1.5579999999999392, 1.5649999999999384, 1.5669999999999382, 1.559999999999939, 1.5529999999999398, 1.5459999999999405, 1.5399999999999412, 1.532999999999942, 1.5259999999999427, 1.5189999999999435, 1.5119999999999443, 1.504999999999945, 1.4989999999999457, 1.4919999999999465, 1.4849999999999473, 1.477999999999948, 1.4709999999999488, 1.4649999999999495, 1.4579999999999502, 1.450999999999951, 1.4449999999999517, 1.4379999999999524, 1.431999999999953, 1.4249999999999539, 1.4189999999999545, 1.4119999999999553, 1.405999999999956, 1.3989999999999567, 1.3929999999999574, 1.386999999999958, 1.3809999999999587, 1.3739999999999595, 1.3679999999999601, 1.3619999999999608, 1.3559999999999615, 1.3499999999999621, 1.3439999999999628, 1.3389999999999633, 1.332999999999964, 1.3269999999999647, 1.3209999999999653, 1.3159999999999659, 1.3099999999999665, 1.304999999999967, 1.2989999999999677, 1.2939999999999683, 1.2889999999999688, 1.2839999999999694, 1.27799999999997, 1.2729999999999706, 1.2679999999999712, 1.2639999999999716, 1.2589999999999721, 1.2539999999999727, 1.2489999999999732, 1.2449999999999737, 1.2399999999999742, 1.2359999999999747, 1.2319999999999751, 1.2279999999999756, 1.223999999999976, 1.2199999999999764, 1.2159999999999769, 1.2119999999999773, 1.2079999999999778, 1.2039999999999782, 1.2009999999999785, 1.1979999999999789, 1.1939999999999793, 1.1909999999999796, 1.18799999999998, 1.1849999999999803, 1.1819999999999806, 1.178999999999981, 1.1769999999999812, 1.1739999999999815, 1.1719999999999817, 1.168999999999982, 1.1669999999999823, 1.1649999999999825, 1.1629999999999827, 1.160999999999983, 1.1589999999999832, 1.1579999999999833, 1.1559999999999835, 1.1549999999999836, 1.1529999999999838, 1.151999999999984, 1.150999999999984, 1.1499999999999841, 1.1489999999999843, 1.1489999999999843, 1.1479999999999844, 1.1479999999999844, 1.1469999999999845, 1.1469999999999845, 1.1469999999999845, 1.1469999999999845, 1.1469999999999845, 1.1469999999999845, 1.1469999999999845, 1.1479999999999844, 1.1479999999999844, 1.1489999999999843, 1.1499999999999841, 1.1499999999999841, 1.150999999999984, 1.151999999999984, 1.1539999999999837, 1.1549999999999836, 1.1559999999999835, 1.1579999999999833, 1.159999999999983, 1.160999999999983, 1.1629999999999827, 1.1649999999999825, 1.1669999999999823, 1.169999999999982, 1.1719999999999817, 1.1739999999999815, 1.1769999999999812, 1.1799999999999808, 1.1829999999999805, 1.1849999999999803, 1.18799999999998, 1.1909999999999796, 1.1949999999999792, 1.1979999999999789, 1.2009999999999785, 1.204999999999978, 1.2079999999999778, 1.2119999999999773, 1.2159999999999769, 1.2199999999999764, 1.223999999999976, 1.2279999999999756, 1.2319999999999751, 1.2359999999999747, 1.2409999999999741, 1.2449999999999737, 1.2499999999999731, 1.2539999999999727, 1.2589999999999721, 1.2629999999999717, 1.2679999999999712, 1.2729999999999706, 1.27799999999997, 1.2829999999999695, 1.287999999999969, 1.2939999999999683, 1.2989999999999677, 1.3039999999999672, 1.3099999999999665, 1.314999999999966, 1.3209999999999653, 1.3259999999999648, 1.331999999999964, 1.3369999999999636, 1.342999999999963, 1.3489999999999622, 1.3549999999999616, 1.360999999999961, 1.3669999999999602, 1.3729999999999596, 1.378999999999959, 1.3849999999999583, 1.3909999999999576, 1.396999999999957, 1.4039999999999562, 1.4099999999999555, 1.422999999999954, 1.4289999999999534, 1.4359999999999526, 1.441999999999952, 1.4489999999999512, 1.4549999999999506, 1.4619999999999498, 1.4679999999999491, 1.4749999999999484, 1.4809999999999477, 1.487999999999947, 1.4949999999999461, 1.5009999999999455, 1.5079999999999447, 1.514999999999944, 1.5219999999999432, 1.5279999999999425, 1.5349999999999417, 1.541999999999941, 1.5489999999999402, 1.5559999999999394, 1.5619999999999388, 1.568999999999938, 1.569999999999938, 1.5629999999999387, 1.5559999999999394, 1.54999999999994, 1.5429999999999409, 1.5359999999999416, 1.5289999999999424, 1.522999999999943, 1.5159999999999438, 1.5089999999999446, 1.5019999999999454, 1.495999999999946, 1.4889999999999468, 1.4819999999999476, 1.4759999999999482, 1.468999999999949, 1.4629999999999497, 1.4559999999999504, 1.4489999999999512, 1.4429999999999519, 1.4369999999999525, 1.4299999999999533, 1.423999999999954, 1.4169999999999547, 1.4109999999999554, 1.404999999999956, 1.3989999999999567, 1.3919999999999575, 1.3859999999999582, 1.3799999999999588, 1.3739999999999595, 1.3679999999999601, 1.3619999999999608, 1.3559999999999615, 1.350999999999962, 1.3449999999999627, 1.3389999999999633, 1.3339999999999639, 1.3279999999999645, 1.322999999999965, 1.3169999999999658, 1.3119999999999663, 1.3069999999999669, 1.3009999999999675, 1.295999999999968, 1.2909999999999686, 1.2859999999999692, 1.2819999999999696, 1.2769999999999702, 1.2719999999999707, 1.2679999999999712, 1.2629999999999717, 1.2589999999999721, 1.2549999999999726, 1.2499999999999731, 1.2459999999999736, 1.241999999999974, 1.2379999999999745, 1.2349999999999748, 1.2309999999999752, 1.2269999999999757, 1.223999999999976, 1.2209999999999763, 1.2169999999999768, 1.213999999999977, 1.2109999999999774, 1.2079999999999778, 1.205999999999978, 1.2029999999999783, 1.2009999999999785, 1.1979999999999789, 1.195999999999979, 1.1939999999999793, 1.1919999999999795, 1.1899999999999797, 1.18799999999998, 1.18699999999998, 1.1849999999999803, 1.1839999999999804, 1.1829999999999805, 1.1819999999999806, 1.1809999999999807, 1.1799999999999808, 1.178999999999981, 1.178999999999981, 1.177999999999981, 1.177999999999981, 1.177999999999981, 1.177999999999981, 1.177999999999981, 1.177999999999981, 1.178999999999981, 1.178999999999981, 1.1799999999999808, 1.1809999999999807, 1.1819999999999806, 1.1829999999999805, 1.1839999999999804]\n"
          ]
        }
      ]
    },
    {
      "cell_type": "code",
      "metadata": {
        "id": "IMc6wCinIOGE"
      },
      "source": [
        "import matplotlib.pyplot as plt"
      ],
      "execution_count": 14,
      "outputs": []
    },
    {
      "cell_type": "code",
      "metadata": {
        "colab": {
          "base_uri": "https://localhost:8080/",
          "height": 265
        },
        "id": "B5hV5gg-I3cm",
        "outputId": "69bde2eb-be2f-43de-8702-1e581839886c"
      },
      "source": [
        "plt.plot(year_2022, [lat * 180 / np.pi for lat in northernmost_sunset_latitude]) # degrees are a little easier unless you put it in terms of pi by factoring it out anyway\n",
        "plt.show()"
      ],
      "execution_count": 21,
      "outputs": [
        {
          "output_type": "display_data",
          "data": {
            "image/png": "[encoded data removed]",
            "text/plain": [
              "<Figure size 432x288 with 1 Axes>"
            ]
          },
          "metadata": {
            "needs_background": "light"
          }
        }
      ]
    },
    {
      "cell_type": "markdown",
      "metadata": {
        "id": "0amc3dnLM6KO"
      },
      "source": [
        "Therefore, the naive solution here, is to simply find the speed of rotation of the earth's surface about its axis at the latitude co-ordinate of the northernmost sunset for a given day.\n",
        "\n",
        "I should probably address the hemisphere selection here: I am personally from the Southern Hemisphere, and like to think I harbour no internalised bias against the South of the planet; however, the Earth experiences slightly longer sunsets in the North, which affords one a higher margin of error, something I assume is likely helpful. Of course, there is less air travel over the Antarctic, which may have benefits for flight plans which I am failing to take into account. In any event, the math below is assuming a perfect sphere and 0 elevation, so there probably isn't going to be significant hemispheric variation in the result."
      ]
    },
    {
      "cell_type": "code",
      "metadata": {
        "colab": {
          "base_uri": "https://localhost:8080/",
          "height": 265
        },
        "id": "BnFlOE6_JlmW",
        "outputId": "f3110cfc-0cb4-4c64-f99f-70c463d153b8"
      },
      "source": [
        "plt.plot(year_2022, [velocity_from_latitude(lat) for lat in northernmost_sunset_latitude])\n",
        "plt.show()"
      ],
      "execution_count": 16,
      "outputs": [
        {
          "output_type": "display_data",
          "data": {
            "image/png": "[encoded data removed]",
            "text/plain": [
              "<Figure size 432x288 with 1 Axes>"
            ]
          },
          "metadata": {
            "needs_background": "light"
          }
        }
      ]
    },
    {
      "cell_type": "code",
      "metadata": {
        "id": "WElyA7L-J4B7"
      },
      "source": [
        ""
      ],
      "execution_count": null,
      "outputs": []
    }
  ]
}